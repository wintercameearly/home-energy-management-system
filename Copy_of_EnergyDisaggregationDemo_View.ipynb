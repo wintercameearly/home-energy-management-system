{
  "nbformat": 4,
  "nbformat_minor": 0,
  "metadata": {
    "colab": {
      "name": "Copy of EnergyDisaggregationDemo_View.ipynb",
      "provenance": [],
      "collapsed_sections": [],
      "include_colab_link": true
    },
    "kernelspec": {
      "display_name": "Python 2",
      "language": "python",
      "name": "python2"
    }
  },
  "cells": [
    {
      "cell_type": "markdown",
      "metadata": {
        "id": "view-in-github",
        "colab_type": "text"
      },
      "source": [
        "<a href=\"https://colab.research.google.com/github/wintercameearly/undergrad_proj/blob/master/Copy_of_EnergyDisaggregationDemo_View.ipynb\" target=\"_parent\"><img src=\"https://colab.research.google.com/assets/colab-badge.svg\" alt=\"Open In Colab\"/></a>"
      ]
    },
    {
      "cell_type": "markdown",
      "metadata": {
        "id": "3BykKKaz_eE6",
        "colab_type": "text"
      },
      "source": [
        "# License\n",
        "\n",
        "Copyright 2019 Google LLC\n",
        "\n",
        "Licensed under the Apache License, Version 2.0 (the \"License\");  \n",
        "you may not use this file except in compliance with the License.  \n",
        "You may obtain a copy of the License at . \n",
        "\n",
        "      http://www.apache.org/licenses/LICENSE-2.0\n",
        "\n",
        "Unless required by applicable law or agreed to in writing,  \n",
        "software distributed under the License is distributed on an \"AS IS\" BASIS,  \n",
        "WITHOUT WARRANTIES OR CONDITIONS OF ANY KIND, either express or implied.  \n",
        "See the License for the specific language governing permissions and  \n",
        "limitations under the License."
      ]
    },
    {
      "cell_type": "markdown",
      "metadata": {
        "id": "u35VyF5SwDVz",
        "colab_type": "text"
      },
      "source": [
        "# Pre-work"
      ]
    },
    {
      "cell_type": "code",
      "metadata": {
        "id": "x_zuXxzQjBb0",
        "colab_type": "code",
        "cellView": "form",
        "outputId": "7992c615-42e2-4547-c68d-032907d6026f",
        "colab": {
          "resources": {
            "http://localhost:8080/nbextensions/google.colab/files.js": {
              "data": "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",
              "ok": true,
              "headers": [
                [
                  "content-type",
                  "application/javascript"
                ]
              ],
              "status": 200,
              "status_text": ""
            }
          },
          "base_uri": "https://localhost:8080/",
          "height": 71
        }
      },
      "source": [
        "# @title Upload files (skip this if this is run locally)\n",
        "\n",
        "# Use this cell to update the following files\n",
        "#   1. requirements.txt\n",
        "#   2. e2e_demo_credential.json\n",
        "from google.colab import files\n",
        "uploaded = files.upload()"
      ],
      "execution_count": 0,
      "outputs": [
        {
          "output_type": "display_data",
          "data": {
            "text/plain": [
              "<IPython.core.display.HTML object>"
            ],
            "text/html": [
              "\n",
              "     <input type=\"file\" id=\"files-68c9e30a-71b9-473b-8026-3bb495719596\" name=\"files[]\" multiple disabled />\n",
              "     <output id=\"result-68c9e30a-71b9-473b-8026-3bb495719596\">\n",
              "      Upload widget is only available when the cell has been executed in the\n",
              "      current browser session. Please rerun this cell to enable.\n",
              "      </output>\n",
              "      <script src=\"/nbextensions/google.colab/files.js\"></script> "
            ]
          },
          "metadata": {
            "tags": []
          }
        },
        {
          "output_type": "stream",
          "text": [
            "Saving e2e_demo_credential.json to e2e_demo_credential.json\n"
          ],
          "name": "stdout"
        }
      ]
    },
    {
      "cell_type": "code",
      "metadata": {
        "id": "XkBx4CguiA0Z",
        "colab_type": "code",
        "cellView": "form",
        "outputId": "f93d669d-d52d-4dc9-a181-0288b57d4634",
        "colab": {
          "base_uri": "https://localhost:8080/",
          "height": 1000
        }
      },
      "source": [
        "# @title Install missing packages\n",
        "\n",
        "# run this cell to install packages if some are missing\n",
        "!pip install -r ./requirements.txt"
      ],
      "execution_count": 0,
      "outputs": [
        {
          "output_type": "stream",
          "text": [
            "Collecting gcsfs==0.2.0\n",
            "\u001b[?25l  Downloading https://files.pythonhosted.org/packages/5f/ef/10b607c804e15f1b9c1726552c3237df3397b86ea2c421dd5e53522ce52d/gcsfs-0.2.0.tar.gz (51kB)\n",
            "\u001b[K     |████████████████████████████████| 51kB 1.6MB/s \n",
            "\u001b[?25hCollecting dask==0.20.2\n",
            "\u001b[?25l  Downloading https://files.pythonhosted.org/packages/52/33/bc1bdd2f2965651d9e2970f82161379ead94581429621f336382acaa5c11/dask-0.20.2-py2.py3-none-any.whl (686kB)\n",
            "\u001b[K     |████████████████████████████████| 696kB 6.5MB/s \n",
            "\u001b[?25hCollecting toolz==0.9.0\n",
            "\u001b[?25l  Downloading https://files.pythonhosted.org/packages/14/d0/a73c15bbeda3d2e7b381a36afb0d9cd770a9f4adc5d1532691013ba881db/toolz-0.9.0.tar.gz (45kB)\n",
            "\u001b[K     |████████████████████████████████| 51kB 6.9MB/s \n",
            "\u001b[?25hCollecting google-cloud-bigquery==1.1.0\n",
            "\u001b[?25l  Downloading https://files.pythonhosted.org/packages/4d/7e/d47392a7449411b7e4f8c95a32c29f5c9808fa7a7111ab302fec773fa86d/google_cloud_bigquery-1.1.0-py2.py3-none-any.whl (71kB)\n",
            "\u001b[K     |████████████████████████████████| 71kB 6.9MB/s \n",
            "\u001b[?25hCollecting google-cloud-pubsub==0.39.1\n",
            "\u001b[?25l  Downloading https://files.pythonhosted.org/packages/c0/9a/4455b1c1450e9b912855b58ca6eee7a27ff1e9b52e4d98c243d93256f469/google_cloud_pubsub-0.39.1-py2.py3-none-any.whl (99kB)\n",
            "\u001b[K     |████████████████████████████████| 102kB 7.7MB/s \n",
            "\u001b[?25hCollecting google-cloud==0.34.0\n",
            "  Downloading https://files.pythonhosted.org/packages/ba/b1/7c54d1950e7808df06642274e677dbcedba57f75307adf2e5ad8d39e5e0e/google_cloud-0.34.0-py2.py3-none-any.whl\n",
            "Collecting grpc-google-iam-v1==0.11.4\n",
            "  Downloading https://files.pythonhosted.org/packages/9b/28/f26f67381cb23e81271b8d66c00a846ad9d25a909ae1ae1df8222fad2744/grpc-google-iam-v1-0.11.4.tar.gz\n",
            "Collecting google-api-core==1.7.0\n",
            "\u001b[?25l  Downloading https://files.pythonhosted.org/packages/8b/01/13758ff9b970008ccf9e0dcc3b86d0e01937d7485b9a2c6142c9c2bdb4da/google_api_core-1.7.0-py2.py3-none-any.whl (64kB)\n",
            "\u001b[K     |████████████████████████████████| 71kB 5.8MB/s \n",
            "\u001b[?25hCollecting numpy==1.14.6\n",
            "\u001b[?25l  Downloading https://files.pythonhosted.org/packages/4e/5b/1077ec0ebfa06f42057e8315bc8e05f5978b6fd0f582879f35f4d62ff124/numpy-1.14.6-cp27-cp27mu-manylinux1_x86_64.whl (13.8MB)\n",
            "\u001b[K     |████████████████████████████████| 13.8MB 258kB/s \n",
            "\u001b[?25hCollecting pandas==0.22.0\n",
            "\u001b[?25l  Downloading https://files.pythonhosted.org/packages/6b/b5/76538d8a202f8c368d30c18892d33664d1a3b2c078af8513ee5b5d172629/pandas-0.22.0-cp27-cp27mu-manylinux1_x86_64.whl (24.3MB)\n",
            "\u001b[K     |████████████████████████████████| 24.3MB 1.5MB/s \n",
            "\u001b[?25hCollecting matplotlib==2.2.3\n",
            "\u001b[?25l  Downloading https://files.pythonhosted.org/packages/59/08/04933377dc4500e3698e93f9113dc3624874e0914f4c85767ecb5b389084/matplotlib-2.2.3-cp27-cp27mu-manylinux1_x86_64.whl (12.6MB)\n",
            "\u001b[K     |████████████████████████████████| 12.6MB 43.4MB/s \n",
            "\u001b[?25hRequirement already satisfied: pandas_gbq==0.4.1 in /usr/local/lib/python2.7/dist-packages (from -r ./requirements.txt (line 12)) (0.4.1)\n",
            "Requirement already satisfied: seaborn==0.9.0 in /usr/local/lib/python2.7/dist-packages (from -r ./requirements.txt (line 13)) (0.9.0)\n",
            "Collecting google-api-python-client==1.6.7\n",
            "\u001b[?25l  Downloading https://files.pythonhosted.org/packages/eb/6c/8c1781a251beb3bc1670d6d1934da51620a049380ea7a6a821099f884b62/google_api_python_client-1.6.7-py2.py3-none-any.whl (56kB)\n",
            "\u001b[K     |████████████████████████████████| 61kB 6.0MB/s \n",
            "\u001b[?25hRequirement already satisfied: google-auth-httplib2==0.0.3 in /usr/local/lib/python2.7/dist-packages (from -r ./requirements.txt (line 15)) (0.0.3)\n",
            "Collecting google-auth==1.4.2\n",
            "\u001b[?25l  Downloading https://files.pythonhosted.org/packages/56/80/369a47c28ce7d9be6a6973338133d073864d8efbb62747e414c34a3a5f4f/google_auth-1.4.2-py2.py3-none-any.whl (64kB)\n",
            "\u001b[K     |████████████████████████████████| 71kB 7.0MB/s \n",
            "\u001b[?25hCollecting cryptography==2.4.2\n",
            "\u001b[?25l  Downloading https://files.pythonhosted.org/packages/7f/ba/383b51cc26e3141c689ce988814385c7659f5ba01c4b5f2de38233010b5f/cryptography-2.4.2-cp27-cp27mu-manylinux1_x86_64.whl (2.1MB)\n",
            "\u001b[K     |████████████████████████████████| 2.1MB 39.8MB/s \n",
            "\u001b[?25hCollecting pyjwt==1.7.1\n",
            "  Downloading https://files.pythonhosted.org/packages/87/8b/6a9f14b5f781697e51259d81657e6048fd31a113229cf346880bb7545565/PyJWT-1.7.1-py2.py3-none-any.whl\n",
            "Collecting paho-mqtt==1.4.0\n",
            "\u001b[?25l  Downloading https://files.pythonhosted.org/packages/25/63/db25e62979c2a716a74950c9ed658dce431b5cb01fde29eb6cba9489a904/paho-mqtt-1.4.0.tar.gz (88kB)\n",
            "\u001b[K     |████████████████████████████████| 92kB 9.0MB/s \n",
            "\u001b[?25hRequirement already satisfied: google-auth-oauthlib in /usr/local/lib/python2.7/dist-packages (from gcsfs==0.2.0->-r ./requirements.txt (line 1)) (0.4.0)\n",
            "Requirement already satisfied: requests in /usr/local/lib/python2.7/dist-packages (from gcsfs==0.2.0->-r ./requirements.txt (line 1)) (2.23.0)\n",
            "Requirement already satisfied: decorator in /usr/local/lib/python2.7/dist-packages (from gcsfs==0.2.0->-r ./requirements.txt (line 1)) (4.4.0)\n",
            "Requirement already satisfied: google-resumable-media>=0.2.1 in /usr/local/lib/python2.7/dist-packages (from google-cloud-bigquery==1.1.0->-r ./requirements.txt (line 4)) (0.3.2)\n",
            "Collecting google-cloud-core<0.29dev,>=0.28.0\n",
            "  Downloading https://files.pythonhosted.org/packages/0f/41/ae2418b4003a14cf21c1c46d61d1b044bf02cf0f8f91598af572b9216515/google_cloud_core-0.28.1-py2.py3-none-any.whl\n",
            "Requirement already satisfied: enum34; python_version < \"3.4\" in /usr/local/lib/python2.7/dist-packages (from google-cloud-pubsub==0.39.1->-r ./requirements.txt (line 5)) (1.1.6)\n",
            "Requirement already satisfied: grpcio<2.0.0dev,>=1.0.0 in /usr/local/lib/python2.7/dist-packages (from grpc-google-iam-v1==0.11.4->-r ./requirements.txt (line 7)) (1.15.0)\n",
            "Requirement already satisfied: googleapis-common-protos[grpc]<2.0.0dev,>=1.5.2 in /usr/local/lib/python2.7/dist-packages (from grpc-google-iam-v1==0.11.4->-r ./requirements.txt (line 7)) (1.6.0)\n",
            "Requirement already satisfied: setuptools>=34.0.0 in /usr/local/lib/python2.7/dist-packages (from google-api-core==1.7.0->-r ./requirements.txt (line 8)) (44.1.0)\n",
            "Requirement already satisfied: protobuf>=3.4.0 in /usr/local/lib/python2.7/dist-packages (from google-api-core==1.7.0->-r ./requirements.txt (line 8)) (3.8.0)\n",
            "Requirement already satisfied: futures>=3.2.0; python_version < \"3.2\" in /usr/local/lib/python2.7/dist-packages (from google-api-core==1.7.0->-r ./requirements.txt (line 8)) (3.2.0)\n",
            "Requirement already satisfied: six>=1.10.0 in /usr/local/lib/python2.7/dist-packages (from google-api-core==1.7.0->-r ./requirements.txt (line 8)) (1.12.0)\n",
            "Requirement already satisfied: pytz in /usr/local/lib/python2.7/dist-packages (from google-api-core==1.7.0->-r ./requirements.txt (line 8)) (2018.9)\n",
            "Requirement already satisfied: python-dateutil in /usr/local/lib/python2.7/dist-packages (from pandas==0.22.0->-r ./requirements.txt (line 10)) (2.5.3)\n",
            "Requirement already satisfied: cycler>=0.10 in /usr/local/lib/python2.7/dist-packages (from matplotlib==2.2.3->-r ./requirements.txt (line 11)) (0.10.0)\n",
            "Requirement already satisfied: backports.functools-lru-cache in /usr/local/lib/python2.7/dist-packages (from matplotlib==2.2.3->-r ./requirements.txt (line 11)) (1.5)\n",
            "Requirement already satisfied: subprocess32 in /usr/local/lib/python2.7/dist-packages (from matplotlib==2.2.3->-r ./requirements.txt (line 11)) (3.5.4)\n",
            "Requirement already satisfied: kiwisolver>=1.0.1 in /usr/local/lib/python2.7/dist-packages (from matplotlib==2.2.3->-r ./requirements.txt (line 11)) (1.1.0)\n",
            "Requirement already satisfied: pyparsing!=2.0.4,!=2.1.2,!=2.1.6,>=2.0.1 in /usr/local/lib/python2.7/dist-packages (from matplotlib==2.2.3->-r ./requirements.txt (line 11)) (2.4.0)\n",
            "Requirement already satisfied: scipy>=0.14.0 in /usr/local/lib/python2.7/dist-packages (from seaborn==0.9.0->-r ./requirements.txt (line 13)) (1.2.2)\n",
            "Requirement already satisfied: httplib2<1dev,>=0.9.2 in /usr/local/lib/python2.7/dist-packages (from google-api-python-client==1.6.7->-r ./requirements.txt (line 14)) (0.11.3)\n",
            "Requirement already satisfied: oauth2client<5.0.0dev,>=1.5.0 in /usr/local/lib/python2.7/dist-packages (from google-api-python-client==1.6.7->-r ./requirements.txt (line 14)) (4.1.3)\n",
            "Requirement already satisfied: uritemplate<4dev,>=3.0.0 in /usr/local/lib/python2.7/dist-packages (from google-api-python-client==1.6.7->-r ./requirements.txt (line 14)) (3.0.0)\n",
            "Requirement already satisfied: cachetools>=2.0.0 in /usr/local/lib/python2.7/dist-packages (from google-auth==1.4.2->-r ./requirements.txt (line 16)) (3.1.1)\n",
            "Requirement already satisfied: pyasn1-modules>=0.2.1 in /usr/local/lib/python2.7/dist-packages (from google-auth==1.4.2->-r ./requirements.txt (line 16)) (0.2.5)\n",
            "Requirement already satisfied: rsa>=3.1.4 in /usr/local/lib/python2.7/dist-packages (from google-auth==1.4.2->-r ./requirements.txt (line 16)) (4.0)\n",
            "Requirement already satisfied: idna>=2.1 in /usr/local/lib/python2.7/dist-packages (from cryptography==2.4.2->-r ./requirements.txt (line 17)) (2.8)\n",
            "Collecting asn1crypto>=0.21.0\n",
            "\u001b[?25l  Downloading https://files.pythonhosted.org/packages/e9/51/1db4a60049fb7390959be586b6eb743098e6cea3f6b2d3ed9e17fec62ba2/asn1crypto-1.3.0-py2.py3-none-any.whl (103kB)\n",
            "\u001b[K     |████████████████████████████████| 112kB 42.5MB/s \n",
            "\u001b[?25hRequirement already satisfied: cffi!=1.11.3,>=1.7 in /usr/local/lib/python2.7/dist-packages (from cryptography==2.4.2->-r ./requirements.txt (line 17)) (1.12.3)\n",
            "Requirement already satisfied: ipaddress; python_version < \"3\" in /usr/local/lib/python2.7/dist-packages (from cryptography==2.4.2->-r ./requirements.txt (line 17)) (1.0.22)\n",
            "Requirement already satisfied: requests-oauthlib>=0.7.0 in /usr/local/lib/python2.7/dist-packages (from google-auth-oauthlib->gcsfs==0.2.0->-r ./requirements.txt (line 1)) (1.2.0)\n",
            "Requirement already satisfied: urllib3!=1.25.0,!=1.25.1,<1.26,>=1.21.1 in /usr/local/lib/python2.7/dist-packages (from requests->gcsfs==0.2.0->-r ./requirements.txt (line 1)) (1.24.3)\n",
            "Requirement already satisfied: chardet<4,>=3.0.2 in /usr/local/lib/python2.7/dist-packages (from requests->gcsfs==0.2.0->-r ./requirements.txt (line 1)) (3.0.4)\n",
            "Requirement already satisfied: certifi>=2017.4.17 in /usr/local/lib/python2.7/dist-packages (from requests->gcsfs==0.2.0->-r ./requirements.txt (line 1)) (2019.6.16)\n",
            "Requirement already satisfied: pyasn1>=0.1.7 in /usr/local/lib/python2.7/dist-packages (from oauth2client<5.0.0dev,>=1.5.0->google-api-python-client==1.6.7->-r ./requirements.txt (line 14)) (0.4.5)\n",
            "Requirement already satisfied: pycparser in /usr/local/lib/python2.7/dist-packages (from cffi!=1.11.3,>=1.7->cryptography==2.4.2->-r ./requirements.txt (line 17)) (2.19)\n",
            "Requirement already satisfied: oauthlib>=3.0.0 in /usr/local/lib/python2.7/dist-packages (from requests-oauthlib>=0.7.0->google-auth-oauthlib->gcsfs==0.2.0->-r ./requirements.txt (line 1)) (3.0.2)\n",
            "Building wheels for collected packages: gcsfs, toolz, grpc-google-iam-v1, paho-mqtt\n",
            "  Building wheel for gcsfs (setup.py) ... \u001b[?25l\u001b[?25hdone\n",
            "  Created wheel for gcsfs: filename=gcsfs-0.2.0-cp27-none-any.whl size=26893 sha256=e219cc7dc63eb327242d24a360c844b5767c7bd048b4545d155057f51e94266c\n",
            "  Stored in directory: /root/.cache/pip/wheels/0a/3c/83/fe2a541de7b1a999b2e6fc7443fcdb49afc5b6664574063186\n",
            "  Building wheel for toolz (setup.py) ... \u001b[?25l\u001b[?25hdone\n",
            "  Created wheel for toolz: filename=toolz-0.9.0-cp27-none-any.whl size=53240 sha256=f9843c72d252a057d5d7dbc66e137f1cc473a3931a2ee385f845db819aebb134\n",
            "  Stored in directory: /root/.cache/pip/wheels/f4/0c/f6/ce6b2d1aa459ee97cc3c0f82236302bd62d89c86c700219463\n",
            "  Building wheel for grpc-google-iam-v1 (setup.py) ... \u001b[?25l\u001b[?25hdone\n",
            "  Created wheel for grpc-google-iam-v1: filename=grpc_google_iam_v1-0.11.4-cp27-none-any.whl size=16131 sha256=be91bba25f08779cb2b1086d22a5c2ebf53d4a2a33addbfa3a4e85dc6fdc031f\n",
            "  Stored in directory: /root/.cache/pip/wheels/b6/c6/31/c20321a5a3fde456fc375b7c2814135e6e98bc0d74c40239d9\n",
            "  Building wheel for paho-mqtt (setup.py) ... \u001b[?25l\u001b[?25hdone\n",
            "  Created wheel for paho-mqtt: filename=paho_mqtt-1.4.0-cp27-none-any.whl size=48330 sha256=caa4043dfc1be5dd0e186abd476c89d255b7c65c5e4abf05c34be3c357c12b60\n",
            "  Stored in directory: /root/.cache/pip/wheels/82/e5/de/d90d0f397648a1b58ffeea1b5742ac8c77f71fd43b550fa5a5\n",
            "Successfully built gcsfs toolz grpc-google-iam-v1 paho-mqtt\n",
            "\u001b[31mERROR: google-colab 1.0.0 has requirement google-auth~=1.7.2, but you'll have google-auth 1.4.2 which is incompatible.\u001b[0m\n",
            "\u001b[31mERROR: google-colab 1.0.0 has requirement pandas~=0.24.0; python_version < \"3.0\", but you'll have pandas 0.22.0 which is incompatible.\u001b[0m\n",
            "\u001b[31mERROR: albumentations 0.1.12 has requirement imgaug<0.2.7,>=0.2.5, but you'll have imgaug 0.2.9 which is incompatible.\u001b[0m\n",
            "\u001b[31mERROR: google-cloud-storage 1.16.1 has requirement google-cloud-core<2.0dev,>=1.0.0, but you'll have google-cloud-core 0.28.1 which is incompatible.\u001b[0m\n",
            "\u001b[31mERROR: featuretools 0.4.1 has requirement pandas>=0.23.0, but you'll have pandas 0.22.0 which is incompatible.\u001b[0m\n",
            "\u001b[31mERROR: blis 0.2.4 has requirement numpy>=1.15.0, but you'll have numpy 1.14.6 which is incompatible.\u001b[0m\n",
            "\u001b[31mERROR: google-cloud-translate 1.5.0 has requirement google-cloud-core<2.0dev,>=1.0.0, but you'll have google-cloud-core 0.28.1 which is incompatible.\u001b[0m\n",
            "\u001b[31mERROR: fastai 0.7.0 has requirement torch<0.4, but you'll have torch 1.4.0 which is incompatible.\u001b[0m\n",
            "\u001b[31mERROR: tensorboard 2.1.0 has requirement google-auth<2,>=1.6.3, but you'll have google-auth 1.4.2 which is incompatible.\u001b[0m\n",
            "\u001b[31mERROR: tensorboard 2.1.0 has requirement google-auth-oauthlib<0.5,>=0.4.1, but you'll have google-auth-oauthlib 0.4.0 which is incompatible.\u001b[0m\n",
            "\u001b[31mERROR: tensorboard 2.1.0 has requirement grpcio>=1.24.3, but you'll have grpcio 1.15.0 which is incompatible.\u001b[0m\n",
            "\u001b[31mERROR: fbprophet 0.5 has requirement pandas>=0.23.4, but you'll have pandas 0.22.0 which is incompatible.\u001b[0m\n",
            "\u001b[31mERROR: tensorflow 2.1.0 has requirement numpy<2.0,>=1.16.0, but you'll have numpy 1.14.6 which is incompatible.\u001b[0m\n",
            "\u001b[31mERROR: tensorflow 2.1.0 has requirement tensorflow-estimator<2.2.0,>=2.1.0rc0, but you'll have tensorflow-estimator 1.15.0 which is incompatible.\u001b[0m\n",
            "\u001b[31mERROR: spacy 2.1.6 has requirement numpy>=1.15.0, but you'll have numpy 1.14.6 which is incompatible.\u001b[0m\n",
            "\u001b[31mERROR: imgaug 0.2.9 has requirement numpy>=1.15.0, but you'll have numpy 1.14.6 which is incompatible.\u001b[0m\n",
            "\u001b[31mERROR: google-cloud-datastore 1.8.0 has requirement google-cloud-core<2.0dev,>=1.0.0, but you'll have google-cloud-core 0.28.1 which is incompatible.\u001b[0m\n",
            "Installing collected packages: google-auth, gcsfs, dask, toolz, google-api-core, google-cloud-core, google-cloud-bigquery, grpc-google-iam-v1, google-cloud-pubsub, google-cloud, numpy, pandas, matplotlib, google-api-python-client, asn1crypto, cryptography, pyjwt, paho-mqtt\n",
            "  Found existing installation: google-auth 1.7.2\n",
            "    Uninstalling google-auth-1.7.2:\n",
            "      Successfully uninstalled google-auth-1.7.2\n",
            "  Found existing installation: dask 1.1.5\n",
            "    Uninstalling dask-1.1.5:\n",
            "      Successfully uninstalled dask-1.1.5\n",
            "  Found existing installation: toolz 0.10.0\n",
            "    Uninstalling toolz-0.10.0:\n",
            "      Successfully uninstalled toolz-0.10.0\n",
            "  Found existing installation: google-api-core 1.13.0\n",
            "    Uninstalling google-api-core-1.13.0:\n",
            "      Successfully uninstalled google-api-core-1.13.0\n",
            "  Found existing installation: google-cloud-core 1.0.2\n",
            "    Uninstalling google-cloud-core-1.0.2:\n",
            "      Successfully uninstalled google-cloud-core-1.0.2\n",
            "  Found existing installation: google-cloud-bigquery 1.14.0\n",
            "    Uninstalling google-cloud-bigquery-1.14.0:\n",
            "      Successfully uninstalled google-cloud-bigquery-1.14.0\n",
            "  Found existing installation: numpy 1.16.4\n",
            "    Uninstalling numpy-1.16.4:\n",
            "      Successfully uninstalled numpy-1.16.4\n",
            "  Found existing installation: pandas 0.24.2\n",
            "    Uninstalling pandas-0.24.2:\n",
            "      Successfully uninstalled pandas-0.24.2\n",
            "  Found existing installation: matplotlib 2.2.4\n",
            "    Uninstalling matplotlib-2.2.4:\n",
            "      Successfully uninstalled matplotlib-2.2.4\n",
            "  Found existing installation: google-api-python-client 1.7.9\n",
            "    Uninstalling google-api-python-client-1.7.9:\n",
            "      Successfully uninstalled google-api-python-client-1.7.9\n",
            "Successfully installed asn1crypto-1.3.0 cryptography-2.4.2 dask-0.20.2 gcsfs-0.2.0 google-api-core-1.7.0 google-api-python-client-1.6.7 google-auth-1.4.2 google-cloud-0.34.0 google-cloud-bigquery-1.1.0 google-cloud-core-0.28.1 google-cloud-pubsub-0.39.1 grpc-google-iam-v1-0.11.4 matplotlib-2.2.3 numpy-1.14.6 paho-mqtt-1.4.0 pandas-0.22.0 pyjwt-1.7.1 toolz-0.9.0\n"
          ],
          "name": "stdout"
        },
        {
          "output_type": "display_data",
          "data": {
            "application/vnd.colab-display-data+json": {
              "pip_warning": {
                "packages": [
                  "google",
                  "matplotlib",
                  "mpl_toolkits",
                  "numpy",
                  "pandas"
                ]
              }
            }
          },
          "metadata": {
            "tags": []
          }
        }
      ]
    },
    {
      "cell_type": "code",
      "metadata": {
        "id": "XdolU7HIiA0c",
        "colab_type": "code",
        "cellView": "form",
        "colab": {}
      },
      "source": [
        "# @title Import libraries\n",
        "\n",
        "%matplotlib inline\n",
        "import matplotlib.pyplot as plt\n",
        "import json\n",
        "import numpy as np\n",
        "import os\n",
        "import pandas as pd\n",
        "import pandas_gbq\n",
        "import seaborn as sns\n",
        "import time\n",
        "import Queue as queue\n",
        "from google.cloud import pubsub_v1\n",
        "from IPython import display"
      ],
      "execution_count": 0,
      "outputs": []
    },
    {
      "cell_type": "code",
      "metadata": {
        "id": "11f98L1viA0g",
        "colab_type": "code",
        "cellView": "form",
        "colab": {}
      },
      "source": [
        "# @title Configurations\n",
        "\n",
        "# project related\n",
        "GOOGLE_CLOUD_PROJECT = 'my-project-fy' #@param\n",
        "GOOGLE_APPLICATION_CREDENTIALS = 'e2e_demo_credential.json' #@param\n",
        "os.environ['GOOGLE_APPLICATION_CREDENTIALS'] = GOOGLE_APPLICATION_CREDENTIALS\n",
        "\n",
        "# data related\n",
        "DATASET_ID = 'EnergyDisaggregation'\n",
        "\n",
        "# pubsub related\n",
        "PRED_TOPIC = 'pred'\n",
        "SUB_NAME = 'sub1'\n",
        "DEVICE_ID = 'fy-raspi' #@param"
      ],
      "execution_count": 0,
      "outputs": []
    },
    {
      "cell_type": "markdown",
      "metadata": {
        "id": "aDLEKuTtiA0j",
        "colab_type": "text"
      },
      "source": [
        "# BQ data loading"
      ]
    },
    {
      "cell_type": "code",
      "metadata": {
        "id": "IgR9WcYViA0j",
        "colab_type": "code",
        "cellView": "form",
        "colab": {}
      },
      "source": [
        "# @title Utility\n",
        "\n",
        "def get_appliance_info(project_id, dataset):\n",
        "    \"\"\"Get appliance info from the big query table.\n",
        "    \n",
        "    Load appliance info from big query table.\n",
        "    \n",
        "    Args:\n",
        "      project_id: str, google cloud project id.\n",
        "      dataset: str, name of the dataset.\n",
        "    Returns:\n",
        "      pandas.DataFrame, appliance info.\n",
        "    \"\"\"\n",
        "    res = pandas_gbq.read_gbq(\n",
        "        'SELECT * FROM {}.ApplianceInfo'.format(dataset),\n",
        "        project_id,\n",
        "        dialect='legacy')\n",
        "    return res\n",
        "\n",
        "def load_ground_truth(project_id, dataset, appliance_id):\n",
        "    \"\"\"Load ground-truth data of a specified appliance from big query table.\n",
        "\n",
        "    Load true appliance status from big query data.\n",
        "\n",
        "    Args:\n",
        "        project_id: str, google project id.\n",
        "        dataset: str, dataset name.\n",
        "        appliance_id: int, appliance id.\n",
        "    Returns:\n",
        "        pandas.DataFrame, ground truth appliance status.\n",
        "    \"\"\"\n",
        "    query = \"\"\"\n",
        "    SELECT * FROM {}.ApplianceStatusGroundTruth\n",
        "    WHERE appliance_id = {}\n",
        "    ORDER BY time\n",
        "    \"\"\".format(dataset, appliance_id)\n",
        "    return pandas_gbq.read_gbq(query,\n",
        "                               project_id,\n",
        "                               index_col='time',\n",
        "                               dialect='legacy')\n",
        "\n",
        "def load_data(project_id, dataset, app_ids):\n",
        "    \"\"\"Load ground-truth data from big query table.\n",
        "\n",
        "    Load true appliance status from big query data.\n",
        "\n",
        "    Args:\n",
        "        project_id: str, google project id.\n",
        "        dataset: str, dataset name.\n",
        "        app_ids: list, appliances' ids.\n",
        "    Returns:\n",
        "        dict, {appliance_id: ground truth data (pandas.DataFrame)}\n",
        "    \"\"\"\n",
        "    print('Loading ground truth data ...')\n",
        "    gt = {}\n",
        "    for k in app_ids:\n",
        "        gt[k] = load_ground_truth(project_id, dataset, k)\n",
        "    print('Data loaded.')\n",
        "    return gt"
      ],
      "execution_count": 0,
      "outputs": []
    },
    {
      "cell_type": "code",
      "metadata": {
        "id": "sLijm-ldiA0m",
        "colab_type": "code",
        "cellView": "both",
        "outputId": "7054a107-eadb-41fe-b711-599e84d71c15",
        "colab": {
          "base_uri": "https://localhost:8080/",
          "height": 297
        }
      },
      "source": [
        "# @title Load appliance info\n",
        "\n",
        "app_info = get_appliance_info(GOOGLE_CLOUD_PROJECT, DATASET_ID)\n",
        "app_info"
      ],
      "execution_count": 0,
      "outputs": [
        {
          "output_type": "execute_result",
          "data": {
            "text/plain": [
              "    appliance_name  appliance_id\n",
              "0  running_machine             0\n",
              "1  washing_machine             1\n",
              "2      dish_washer             2\n",
              "3        microwave             3\n",
              "4          toaster             4\n",
              "5           kettle             5\n",
              "6      rice_cooker             6\n",
              "7           cooker             7"
            ],
            "text/html": [
              "<div>\n",
              "<style scoped>\n",
              "    .dataframe tbody tr th:only-of-type {\n",
              "        vertical-align: middle;\n",
              "    }\n",
              "\n",
              "    .dataframe tbody tr th {\n",
              "        vertical-align: top;\n",
              "    }\n",
              "\n",
              "    .dataframe thead th {\n",
              "        text-align: right;\n",
              "    }\n",
              "</style>\n",
              "<table border=\"1\" class=\"dataframe\">\n",
              "  <thead>\n",
              "    <tr style=\"text-align: right;\">\n",
              "      <th></th>\n",
              "      <th>appliance_name</th>\n",
              "      <th>appliance_id</th>\n",
              "    </tr>\n",
              "  </thead>\n",
              "  <tbody>\n",
              "    <tr>\n",
              "      <th>0</th>\n",
              "      <td>running_machine</td>\n",
              "      <td>0</td>\n",
              "    </tr>\n",
              "    <tr>\n",
              "      <th>1</th>\n",
              "      <td>washing_machine</td>\n",
              "      <td>1</td>\n",
              "    </tr>\n",
              "    <tr>\n",
              "      <th>2</th>\n",
              "      <td>dish_washer</td>\n",
              "      <td>2</td>\n",
              "    </tr>\n",
              "    <tr>\n",
              "      <th>3</th>\n",
              "      <td>microwave</td>\n",
              "      <td>3</td>\n",
              "    </tr>\n",
              "    <tr>\n",
              "      <th>4</th>\n",
              "      <td>toaster</td>\n",
              "      <td>4</td>\n",
              "    </tr>\n",
              "    <tr>\n",
              "      <th>5</th>\n",
              "      <td>kettle</td>\n",
              "      <td>5</td>\n",
              "    </tr>\n",
              "    <tr>\n",
              "      <th>6</th>\n",
              "      <td>rice_cooker</td>\n",
              "      <td>6</td>\n",
              "    </tr>\n",
              "    <tr>\n",
              "      <th>7</th>\n",
              "      <td>cooker</td>\n",
              "      <td>7</td>\n",
              "    </tr>\n",
              "  </tbody>\n",
              "</table>\n",
              "</div>"
            ]
          },
          "metadata": {
            "tags": []
          },
          "execution_count": 4
        }
      ]
    },
    {
      "cell_type": "code",
      "metadata": {
        "id": "MSguFEpsiA0o",
        "colab_type": "code",
        "cellView": "form",
        "outputId": "7b76b1d6-b1cc-4b2c-ddcb-630b5c6db00a",
        "colab": {
          "base_uri": "https://localhost:8080/",
          "height": 153
        }
      },
      "source": [
        "# @title Create appliance Id to name mapping\n",
        "\n",
        "app_id_name_map = {row[1]: row[0] for i, row in app_info.iterrows()}\n",
        "app_id_name_map"
      ],
      "execution_count": 0,
      "outputs": [
        {
          "output_type": "execute_result",
          "data": {
            "text/plain": [
              "{0: u'running_machine',\n",
              " 1: u'washing_machine',\n",
              " 2: u'dish_washer',\n",
              " 3: u'microwave',\n",
              " 4: u'toaster',\n",
              " 5: u'kettle',\n",
              " 6: u'rice_cooker',\n",
              " 7: u'cooker'}"
            ]
          },
          "metadata": {
            "tags": []
          },
          "execution_count": 5
        }
      ]
    },
    {
      "cell_type": "code",
      "metadata": {
        "id": "dmzRNLX8iA0r",
        "colab_type": "code",
        "cellView": "form",
        "outputId": "3d540c86-f46b-435e-985b-a50df8191b09",
        "colab": {
          "base_uri": "https://localhost:8080/",
          "height": 51
        }
      },
      "source": [
        "# @title Load ground truth data (this can take some time)\n",
        "ground_truth = load_data(project_id=GOOGLE_CLOUD_PROJECT,\n",
        "                         dataset=DATASET_ID,\n",
        "                         app_ids=app_id_name_map.keys())"
      ],
      "execution_count": 0,
      "outputs": [
        {
          "output_type": "stream",
          "text": [
            "Loading ground truth data ...\n",
            "Data loaded.\n"
          ],
          "name": "stdout"
        }
      ]
    },
    {
      "cell_type": "markdown",
      "metadata": {
        "id": "kZor4sdbiA0t",
        "colab_type": "text"
      },
      "source": [
        "# Start subscriber"
      ]
    },
    {
      "cell_type": "markdown",
      "metadata": {
        "id": "Fc6e4XHHiA0z",
        "colab_type": "text"
      },
      "source": [
        "When the following cell is run, it will pull messages from a pub/sub topic.  \n",
        "The message contains both raw power readings and prediction results from CMLE.  \n",
        "It plots the raw active powers, it also updates precision/recall for each appliance.  "
      ]
    },
    {
      "cell_type": "code",
      "metadata": {
        "id": "mA2aValZiA0v",
        "colab_type": "code",
        "cellView": "form",
        "colab": {}
      },
      "source": [
        "# @title Utility\n",
        "\n",
        "class MsgProcesser(object):\n",
        "    \"\"\"Subscribe to a pub/sub topic and process incoming messages.\"\"\"\n",
        "    \n",
        "    def __init__(self,\n",
        "                 project_id,\n",
        "                 ground_truth,\n",
        "                 topic_name,\n",
        "                 subscription_name,\n",
        "                 app_id_name_map,\n",
        "                 target_device):\n",
        "        # member initialization\n",
        "        self._gt = ground_truth\n",
        "        self._data = pd.Series(np.zeros(self._gt[0].shape[0]),\n",
        "                                index=self._gt[0].index)\n",
        "        self._app_id_to_name = app_id_name_map\n",
        "        self._target_device = target_device\n",
        "        self._app_names = [app_id_name_map[k]\n",
        "                           for k in range(len(app_id_name_map.keys()))]\n",
        "        self._queue = queue.Queue(maxsize=100000)\n",
        "        # create subsciprtion\n",
        "        self._subscriber, self._subscription_path = (\n",
        "            self.create_subscription(project_id, topic_name, subscription_name))\n",
        "        self._subscriber.subscribe(self._subscription_path,\n",
        "                                   callback=self._msg_callback)\n",
        "        \n",
        "    def create_subscription(self, project_id, topic_name, subscription_name):\n",
        "        \"\"\"Create a subscription in pub/sub.\n",
        "    \n",
        "        Before listening to incoming messages, we need to define a subscription.\n",
        "        This function creates a new subscription only if it does not exist.\n",
        "\n",
        "        Args:\n",
        "          project_id: str, google cloud project id.\n",
        "          topic_name: str, topic name.\n",
        "          subscription_name: str, name of the new subscription.\n",
        "        Returns:\n",
        "          (google.cloud.pubsub_v1.SubscriberClient, topic_path)\n",
        "        \"\"\"\n",
        "        print('Creating subscription \"{}\" to topic \"{}\" ...'.format(\n",
        "            subscription_name, topic_name))\n",
        "        try:\n",
        "            subscriber = pubsub_v1.SubscriberClient()\n",
        "            topic_path = subscriber.topic_path(project_id, topic_name)\n",
        "            subscription_path = subscriber.subscription_path(\n",
        "                project_id, subscription_name)\n",
        "            # if the subscription exists, exception is raised here\n",
        "            subscription = subscriber.create_subscription(\n",
        "                subscription_path, topic_path)\n",
        "            print('Subscription created: {}'.format(subscription))\n",
        "        except Exception as e:\n",
        "            print('Subscription \"{}\" existed.'.format(subscription_name))\n",
        "        return subscriber, subscription_path\n",
        "    \n",
        "    def async_pull_msg(self):\n",
        "        \"\"\"Pull messages asynchronously from pub/sub topic.\"\"\"\n",
        "        # initialize metrics\n",
        "        self._metrics = [{'TP': 0, 'TN': 0, 'FP': 0, 'FN': 0}\n",
        "                         for k in range(len(self._app_id_to_name))]\n",
        "        precisions = [0. for k in self._app_id_to_name]\n",
        "        recalls = [0. for k in self._app_id_to_name]\n",
        "        # initialize UI\n",
        "        fig, ax = plt.subplots(1, 1, figsize=(16, 4))\n",
        "        sns.axes_style('white')\n",
        "        # receive data and update UI\n",
        "        print('Listening for messages on {} ...'.format(\n",
        "          self._subscription_path))\n",
        "        max_t = None\n",
        "        while(True):\n",
        "            # collect data from callback threads\n",
        "            t, d, probs = self._queue.get()\n",
        "            if max_t is None:\n",
        "                max_t = t\n",
        "            else:\n",
        "                max_t = max(t, max_t)\n",
        "            self._data.at[t] = d\n",
        "            for k in self._app_id_to_name:\n",
        "                truth = self._gt[k].status.at[t]\n",
        "                pred = 1 if probs[k] >= 0.5 else 0\n",
        "                if truth == 1 and pred == 1:\n",
        "                    self._metrics[k]['TP'] += 1\n",
        "                elif truth == 0 and pred == 0:\n",
        "                    self._metrics[k]['TN'] += 1\n",
        "                elif truth == 1 and pred == 0:\n",
        "                    self._metrics[k]['FN'] += 1\n",
        "                else:\n",
        "                    self._metrics[k]['FP'] += 1\n",
        "                TP = self._metrics[k]['TP']\n",
        "                FP = self._metrics[k]['FP']\n",
        "                FN = self._metrics[k]['FN']\n",
        "                precisions[k] = (\n",
        "                  np.nan if TP + FP == 0 else round(1.0 * TP / (TP + FP), 2))\n",
        "                recalls[k] = (\n",
        "                  np.nan if TP + FN == 0 else round(1.0 * TP / (TP + FN), 2))\n",
        "                \n",
        "            score_matrix = pd.DataFrame({'Precision': precisions,\n",
        "                                         'Recall': recalls},\n",
        "                                        index=self._app_names)\n",
        "                        \n",
        "            # update view in the main thread\n",
        "            ax.clear()\n",
        "            x = max_t.astype('datetime64[h]')\n",
        "            mask = (self._data.index >= x) & (self._data.index < x + 1)\n",
        "            ax = sns.lineplot(data=self._data[mask], linewidth=2.5, ax=ax)\n",
        "            ax.set_xlabel('time')\n",
        "            ax.set_ylabel('active power')\n",
        "            ax.set_ylim(bottom=0)\n",
        "            title = 'Device: {}, Date: {} (UTC)'.format(\n",
        "              self._target_device, max_t.astype('datetime64[D]'))\n",
        "            ax.set_title(title)\n",
        "            display.clear_output(wait=True)\n",
        "            display.display(plt.gcf())\n",
        "            display.display(score_matrix)\n",
        "            \n",
        "    def _msg_callback(self, message):\n",
        "        \"\"\"Pub/sub pull callback.\"\"\"\n",
        "        try:\n",
        "            data = json.loads(message.data.decode('utf-8'))\n",
        "            device_id = data['device_id']\n",
        "            if device_id == self._target_device:\n",
        "              t = np.datetime64(data['time'][-1])\n",
        "              d = data['data'][-1]\n",
        "              probs = data['probs']\n",
        "              self._queue.put((t, d, probs))\n",
        "        except Exception as e:\n",
        "            print('Error: {}'.format(e))\n",
        "        message.ack()"
      ],
      "execution_count": 0,
      "outputs": []
    },
    {
      "cell_type": "code",
      "metadata": {
        "id": "DSUQgFu5iA00",
        "colab_type": "code",
        "cellView": "form",
        "outputId": "c59e5825-613a-459c-d767-237bf8a8e538",
        "colab": {
          "base_uri": "https://localhost:8080/",
          "height": 575
        }
      },
      "source": [
        "# @title Visualization\n",
        "\n",
        "tt = MsgProcesser(project_id=GOOGLE_CLOUD_PROJECT,\n",
        "                  ground_truth=ground_truth,\n",
        "                  topic_name=PRED_TOPIC,\n",
        "                  subscription_name=SUB_NAME,\n",
        "                  app_id_name_map=app_id_name_map,\n",
        "                  target_device=DEVICE_ID)\n",
        "tt.async_pull_msg()"
      ],
      "execution_count": 0,
      "outputs": [
        {
          "output_type": "display_data",
          "data": {
            "image/png": "[encoded data removed]",
            "text/plain": [
              "<Figure size 1152x288 with 1 Axes>"
            ]
          },
          "metadata": {
            "tags": []
          }
        },
        {
          "output_type": "display_data",
          "data": {
            "text/plain": [
              "                 Precision  Recall\n",
              "running_machine        NaN     NaN\n",
              "washing_machine       0.00     NaN\n",
              "dish_washer            NaN     NaN\n",
              "microwave              NaN     NaN\n",
              "toaster                NaN     NaN\n",
              "kettle                0.67    1.00\n",
              "rice_cooker           1.00    0.91\n",
              "cooker                 NaN    0.00"
            ],
            "text/html": [
              "<div>\n",
              "<style scoped>\n",
              "    .dataframe tbody tr th:only-of-type {\n",
              "        vertical-align: middle;\n",
              "    }\n",
              "\n",
              "    .dataframe tbody tr th {\n",
              "        vertical-align: top;\n",
              "    }\n",
              "\n",
              "    .dataframe thead th {\n",
              "        text-align: right;\n",
              "    }\n",
              "</style>\n",
              "<table border=\"1\" class=\"dataframe\">\n",
              "  <thead>\n",
              "    <tr style=\"text-align: right;\">\n",
              "      <th></th>\n",
              "      <th>Precision</th>\n",
              "      <th>Recall</th>\n",
              "    </tr>\n",
              "  </thead>\n",
              "  <tbody>\n",
              "    <tr>\n",
              "      <th>running_machine</th>\n",
              "      <td>NaN</td>\n",
              "      <td>NaN</td>\n",
              "    </tr>\n",
              "    <tr>\n",
              "      <th>washing_machine</th>\n",
              "      <td>0.00</td>\n",
              "      <td>NaN</td>\n",
              "    </tr>\n",
              "    <tr>\n",
              "      <th>dish_washer</th>\n",
              "      <td>NaN</td>\n",
              "      <td>NaN</td>\n",
              "    </tr>\n",
              "    <tr>\n",
              "      <th>microwave</th>\n",
              "      <td>NaN</td>\n",
              "      <td>NaN</td>\n",
              "    </tr>\n",
              "    <tr>\n",
              "      <th>toaster</th>\n",
              "      <td>NaN</td>\n",
              "      <td>NaN</td>\n",
              "    </tr>\n",
              "    <tr>\n",
              "      <th>kettle</th>\n",
              "      <td>0.67</td>\n",
              "      <td>1.00</td>\n",
              "    </tr>\n",
              "    <tr>\n",
              "      <th>rice_cooker</th>\n",
              "      <td>1.00</td>\n",
              "      <td>0.91</td>\n",
              "    </tr>\n",
              "    <tr>\n",
              "      <th>cooker</th>\n",
              "      <td>NaN</td>\n",
              "      <td>0.00</td>\n",
              "    </tr>\n",
              "  </tbody>\n",
              "</table>\n",
              "</div>"
            ]
          },
          "metadata": {
            "tags": []
          }
        }
      ]
    },
    {
      "cell_type": "code",
      "metadata": {
        "id": "85Ty2zNBiA02",
        "colab_type": "code",
        "colab": {}
      },
      "source": [
        ""
      ],
      "execution_count": 0,
      "outputs": []
    }
  ]
}