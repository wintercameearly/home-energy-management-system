{
  "nbformat": 4,
  "nbformat_minor": 0,
  "metadata": {
    "colab": {
      "name": "Copy of EnergyDisaggregationDemo_Client.ipynb",
      "provenance": [],
      "collapsed_sections": [],
      "include_colab_link": true
    },
    "kernelspec": {
      "display_name": "Python 2",
      "language": "python",
      "name": "python2"
    }
  },
  "cells": [
    {
      "cell_type": "markdown",
      "metadata": {
        "id": "view-in-github",
        "colab_type": "text"
      },
      "source": [
        "<a href=\"https://colab.research.google.com/github/wintercameearly/undergrad_proj/blob/master/Copy_of_EnergyDisaggregationDemo_Client.ipynb\" target=\"_parent\"><img src=\"https://colab.research.google.com/assets/colab-badge.svg\" alt=\"Open In Colab\"/></a>"
      ]
    },
    {
      "cell_type": "markdown",
      "metadata": {
        "id": "m9wE6Zw4-oub",
        "colab_type": "text"
      },
      "source": [
        "# License\n",
        "\n",
        "Copyright 2019 Google LLC\n",
        "\n",
        "Licensed under the Apache License, Version 2.0 (the \"License\");  \n",
        "you may not use this file except in compliance with the License.  \n",
        "You may obtain a copy of the License at . \n",
        "\n",
        "      http://www.apache.org/licenses/LICENSE-2.0\n",
        "\n",
        "Unless required by applicable law or agreed to in writing,  \n",
        "software distributed under the License is distributed on an \"AS IS\" BASIS,  \n",
        "WITHOUT WARRANTIES OR CONDITIONS OF ANY KIND, either express or implied.  \n",
        "See the License for the specific language governing permissions and  \n",
        "limitations under the License."
      ]
    },
    {
      "cell_type": "markdown",
      "metadata": {
        "colab_type": "text",
        "id": "T6dXb-4Luvam"
      },
      "source": [
        "# Pre-work"
      ]
    },
    {
      "cell_type": "code",
      "metadata": {
        "cellView": "form",
        "colab_type": "code",
        "id": "VbkK2gFfm9Ht",
        "outputId": "c1382a71-9b67-49a5-a417-6e4291a21e8a",
        "colab": {
          "resources": {
            "http://localhost:8080/nbextensions/google.colab/files.js": {
              "data": "Ly8gQ29weXJpZ2h0IDIwMTcgR29vZ2xlIExMQwovLwovLyBMaWNlbnNlZCB1bmRlciB0aGUgQXBhY2hlIExpY2Vuc2UsIFZlcnNpb24gMi4wICh0aGUgIkxpY2Vuc2UiKTsKLy8geW91IG1heSBub3QgdXNlIHRoaXMgZmlsZSBleGNlcHQgaW4gY29tcGxpYW5jZSB3aXRoIHRoZSBMaWNlbnNlLgovLyBZb3UgbWF5IG9idGFpbiBhIGNvcHkgb2YgdGhlIExpY2Vuc2UgYXQKLy8KLy8gICAgICBodHRwOi8vd3d3LmFwYWNoZS5vcmcvbGljZW5zZXMvTElDRU5TRS0yLjAKLy8KLy8gVW5sZXNzIHJlcXVpcmVkIGJ5IGFwcGxpY2FibGUgbGF3IG9yIGFncmVlZCB0byBpbiB3cml0aW5nLCBzb2Z0d2FyZQovLyBkaXN0cmlidXRlZCB1bmRlciB0aGUgTGljZW5zZSBpcyBkaXN0cmlidXRlZCBvbiBhbiAiQVMgSVMiIEJBU0lTLAovLyBXSVRIT1VUIFdBUlJBTlRJRVMgT1IgQ09ORElUSU9OUyBPRiBBTlkgS0lORCwgZWl0aGVyIGV4cHJlc3Mgb3IgaW1wbGllZC4KLy8gU2VlIHRoZSBMaWNlbnNlIGZvciB0aGUgc3BlY2lmaWMgbGFuZ3VhZ2UgZ292ZXJuaW5nIHBlcm1pc3Npb25zIGFuZAovLyBsaW1pdGF0aW9ucyB1bmRlciB0aGUgTGljZW5zZS4KCi8qKgogKiBAZmlsZW92ZXJ2aWV3IEhlbHBlcnMgZm9yIGdvb2dsZS5jb2xhYiBQeXRob24gbW9kdWxlLgogKi8KKGZ1bmN0aW9uKHNjb3BlKSB7CmZ1bmN0aW9uIHNwYW4odGV4dCwgc3R5bGVBdHRyaWJ1dGVzID0ge30pIHsKICBjb25zdCBlbGVtZW50ID0gZG9jdW1lbnQuY3JlYXRlRWxlbWVudCgnc3BhbicpOwogIGVsZW1lbnQudGV4dENvbnRlbnQgPSB0ZXh0OwogIGZvciAoY29uc3Qga2V5IG9mIE9iamVjdC5rZXlzKHN0eWxlQXR0cmlidXRlcykpIHsKICAgIGVsZW1lbnQuc3R5bGVba2V5XSA9IHN0eWxlQXR0cmlidXRlc1trZXldOwogIH0KICByZXR1cm4gZWxlbWVudDsKfQoKLy8gTWF4IG51bWJlciBvZiBieXRlcyB3aGljaCB3aWxsIGJlIHVwbG9hZGVkIGF0IGEgdGltZS4KY29uc3QgTUFYX1BBWUxPQURfU0laRSA9IDEwMCAqIDEwMjQ7Ci8vIE1heCBhbW91bnQgb2YgdGltZSB0byBibG9jayB3YWl0aW5nIGZvciB0aGUgdXNlci4KY29uc3QgRklMRV9DSEFOR0VfVElNRU9VVF9NUyA9IDMwICogMTAwMDsKCmZ1bmN0aW9uIF91cGxvYWRGaWxlcyhpbnB1dElkLCBvdXRwdXRJZCkgewogIGNvbnN0IHN0ZXBzID0gdXBsb2FkRmlsZXNTdGVwKGlucHV0SWQsIG91dHB1dElkKTsKICBjb25zdCBvdXRwdXRFbGVtZW50ID0gZG9jdW1lbnQuZ2V0RWxlbWVudEJ5SWQob3V0cHV0SWQpOwogIC8vIENhY2hlIHN0ZXBzIG9uIHRoZSBvdXRwdXRFbGVtZW50IHRvIG1ha2UgaXQgYXZhaWxhYmxlIGZvciB0aGUgbmV4dCBjYWxsCiAgLy8gdG8gdXBsb2FkRmlsZXNDb250aW51ZSBmcm9tIFB5dGhvbi4KICBvdXRwdXRFbGVtZW50LnN0ZXBzID0gc3RlcHM7CgogIHJldHVybiBfdXBsb2FkRmlsZXNDb250aW51ZShvdXRwdXRJZCk7Cn0KCi8vIFRoaXMgaXMgcm91Z2hseSBhbiBhc3luYyBnZW5lcmF0b3IgKG5vdCBzdXBwb3J0ZWQgaW4gdGhlIGJyb3dzZXIgeWV0KSwKLy8gd2hlcmUgdGhlcmUgYXJlIG11bHRpcGxlIGFzeW5jaHJvbm91cyBzdGVwcyBhbmQgdGhlIFB5dGhvbiBzaWRlIGlzIGdvaW5nCi8vIHRvIHBvbGwgZm9yIGNvbXBsZXRpb24gb2YgZWFjaCBzdGVwLgovLyBUaGlzIHVzZXMgYSBQcm9taXNlIHRvIGJsb2NrIHRoZSBweXRob24gc2lkZSBvbiBjb21wbGV0aW9uIG9mIGVhY2ggc3RlcCwKLy8gdGhlbiBwYXNzZXMgdGhlIHJlc3VsdCBvZiB0aGUgcHJldmlvdXMgc3RlcCBhcyB0aGUgaW5wdXQgdG8gdGhlIG5leHQgc3RlcC4KZnVuY3Rpb24gX3VwbG9hZEZpbGVzQ29udGludWUob3V0cHV0SWQpIHsKICBjb25zdCBvdXRwdXRFbGVtZW50ID0gZG9jdW1lbnQuZ2V0RWxlbWVudEJ5SWQob3V0cHV0SWQpOwogIGNvbnN0IHN0ZXBzID0gb3V0cHV0RWxlbWVudC5zdGVwczsKCiAgY29uc3QgbmV4dCA9IHN0ZXBzLm5leHQob3V0cHV0RWxlbWVudC5sYXN0UHJvbWlzZVZhbHVlKTsKICByZXR1cm4gUHJvbWlzZS5yZXNvbHZlKG5leHQudmFsdWUucHJvbWlzZSkudGhlbigodmFsdWUpID0+IHsKICAgIC8vIENhY2hlIHRoZSBsYXN0IHByb21pc2UgdmFsdWUgdG8gbWFrZSBpdCBhdmFpbGFibGUgdG8gdGhlIG5leHQKICAgIC8vIHN0ZXAgb2YgdGhlIGdlbmVyYXRvci4KICAgIG91dHB1dEVsZW1lbnQubGFzdFByb21pc2VWYWx1ZSA9IHZhbHVlOwogICAgcmV0dXJuIG5leHQudmFsdWUucmVzcG9uc2U7CiAgfSk7Cn0KCi8qKgogKiBHZW5lcmF0b3IgZnVuY3Rpb24gd2hpY2ggaXMgY2FsbGVkIGJldHdlZW4gZWFjaCBhc3luYyBzdGVwIG9mIHRoZSB1cGxvYWQKICogcHJvY2Vzcy4KICogQHBhcmFtIHtzdHJpbmd9IGlucHV0SWQgRWxlbWVudCBJRCBvZiB0aGUgaW5wdXQgZmlsZSBwaWNrZXIgZWxlbWVudC4KICogQHBhcmFtIHtzdHJpbmd9IG91dHB1dElkIEVsZW1lbnQgSUQgb2YgdGhlIG91dHB1dCBkaXNwbGF5LgogKiBAcmV0dXJuIHshSXRlcmFibGU8IU9iamVjdD59IEl0ZXJhYmxlIG9mIG5leHQgc3RlcHMuCiAqLwpmdW5jdGlvbiogdXBsb2FkRmlsZXNTdGVwKGlucHV0SWQsIG91dHB1dElkKSB7CiAgY29uc3QgaW5wdXRFbGVtZW50ID0gZG9jdW1lbnQuZ2V0RWxlbWVudEJ5SWQoaW5wdXRJZCk7CiAgaW5wdXRFbGVtZW50LmRpc2FibGVkID0gZmFsc2U7CgogIGNvbnN0IG91dHB1dEVsZW1lbnQgPSBkb2N1bWVudC5nZXRFbGVtZW50QnlJZChvdXRwdXRJZCk7CiAgb3V0cHV0RWxlbWVudC5pbm5lckhUTUwgPSAnJzsKCiAgY29uc3QgcGlja2VkUHJvbWlzZSA9IG5ldyBQcm9taXNlKChyZXNvbHZlKSA9PiB7CiAgICBpbnB1dEVsZW1lbnQuYWRkRXZlbnRMaXN0ZW5lcignY2hhbmdlJywgKGUpID0+IHsKICAgICAgcmVzb2x2ZShlLnRhcmdldC5maWxlcyk7CiAgICB9KTsKICB9KTsKCiAgY29uc3QgY2FuY2VsID0gZG9jdW1lbnQuY3JlYXRlRWxlbWVudCgnYnV0dG9uJyk7CiAgaW5wdXRFbGVtZW50LnBhcmVudEVsZW1lbnQuYXBwZW5kQ2hpbGQoY2FuY2VsKTsKICBjYW5jZWwudGV4dENvbnRlbnQgPSAnQ2FuY2VsIHVwbG9hZCc7CiAgY29uc3QgY2FuY2VsUHJvbWlzZSA9IG5ldyBQcm9taXNlKChyZXNvbHZlKSA9PiB7CiAgICBjYW5jZWwub25jbGljayA9ICgpID0+IHsKICAgICAgcmVzb2x2ZShudWxsKTsKICAgIH07CiAgfSk7CgogIC8vIENhbmNlbCB1cGxvYWQgaWYgdXNlciBoYXNuJ3QgcGlja2VkIGFueXRoaW5nIGluIHRpbWVvdXQuCiAgY29uc3QgdGltZW91dFByb21pc2UgPSBuZXcgUHJvbWlzZSgocmVzb2x2ZSkgPT4gewogICAgc2V0VGltZW91dCgoKSA9PiB7CiAgICAgIHJlc29sdmUobnVsbCk7CiAgICB9LCBGSUxFX0NIQU5HRV9USU1FT1VUX01TKTsKICB9KTsKCiAgLy8gV2FpdCBmb3IgdGhlIHVzZXIgdG8gcGljayB0aGUgZmlsZXMuCiAgY29uc3QgZmlsZXMgPSB5aWVsZCB7CiAgICBwcm9taXNlOiBQcm9taXNlLnJhY2UoW3BpY2tlZFByb21pc2UsIHRpbWVvdXRQcm9taXNlLCBjYW5jZWxQcm9taXNlXSksCiAgICByZXNwb25zZTogewogICAgICBhY3Rpb246ICdzdGFydGluZycsCiAgICB9CiAgfTsKCiAgaWYgKCFmaWxlcykgewogICAgcmV0dXJuIHsKICAgICAgcmVzcG9uc2U6IHsKICAgICAgICBhY3Rpb246ICdjb21wbGV0ZScsCiAgICAgIH0KICAgIH07CiAgfQoKICBjYW5jZWwucmVtb3ZlKCk7CgogIC8vIERpc2FibGUgdGhlIGlucHV0IGVsZW1lbnQgc2luY2UgZnVydGhlciBwaWNrcyBhcmUgbm90IGFsbG93ZWQuCiAgaW5wdXRFbGVtZW50LmRpc2FibGVkID0gdHJ1ZTsKCiAgZm9yIChjb25zdCBmaWxlIG9mIGZpbGVzKSB7CiAgICBjb25zdCBsaSA9IGRvY3VtZW50LmNyZWF0ZUVsZW1lbnQoJ2xpJyk7CiAgICBsaS5hcHBlbmQoc3BhbihmaWxlLm5hbWUsIHtmb250V2VpZ2h0OiAnYm9sZCd9KSk7CiAgICBsaS5hcHBlbmQoc3BhbigKICAgICAgICBgKCR7ZmlsZS50eXBlIHx8ICduL2EnfSkgLSAke2ZpbGUuc2l6ZX0gYnl0ZXMsIGAgKwogICAgICAgIGBsYXN0IG1vZGlmaWVkOiAkewogICAgICAgICAgICBmaWxlLmxhc3RNb2RpZmllZERhdGUgPyBmaWxlLmxhc3RNb2RpZmllZERhdGUudG9Mb2NhbGVEYXRlU3RyaW5nKCkgOgogICAgICAgICAgICAgICAgICAgICAgICAgICAgICAgICAgICAnbi9hJ30gLSBgKSk7CiAgICBjb25zdCBwZXJjZW50ID0gc3BhbignMCUgZG9uZScpOwogICAgbGkuYXBwZW5kQ2hpbGQocGVyY2VudCk7CgogICAgb3V0cHV0RWxlbWVudC5hcHBlbmRDaGlsZChsaSk7CgogICAgY29uc3QgZmlsZURhdGFQcm9taXNlID0gbmV3IFByb21pc2UoKHJlc29sdmUpID0+IHsKICAgICAgY29uc3QgcmVhZGVyID0gbmV3IEZpbGVSZWFkZXIoKTsKICAgICAgcmVhZGVyLm9ubG9hZCA9IChlKSA9PiB7CiAgICAgICAgcmVzb2x2ZShlLnRhcmdldC5yZXN1bHQpOwogICAgICB9OwogICAgICByZWFkZXIucmVhZEFzQXJyYXlCdWZmZXIoZmlsZSk7CiAgICB9KTsKICAgIC8vIFdhaXQgZm9yIHRoZSBkYXRhIHRvIGJlIHJlYWR5LgogICAgbGV0IGZpbGVEYXRhID0geWllbGQgewogICAgICBwcm9taXNlOiBmaWxlRGF0YVByb21pc2UsCiAgICAgIHJlc3BvbnNlOiB7CiAgICAgICAgYWN0aW9uOiAnY29udGludWUnLAogICAgICB9CiAgICB9OwoKICAgIC8vIFVzZSBhIGNodW5rZWQgc2VuZGluZyB0byBhdm9pZCBtZXNzYWdlIHNpemUgbGltaXRzLiBTZWUgYi82MjExNTY2MC4KICAgIGxldCBwb3NpdGlvbiA9IDA7CiAgICB3aGlsZSAocG9zaXRpb24gPCBmaWxlRGF0YS5ieXRlTGVuZ3RoKSB7CiAgICAgIGNvbnN0IGxlbmd0aCA9IE1hdGgubWluKGZpbGVEYXRhLmJ5dGVMZW5ndGggLSBwb3NpdGlvbiwgTUFYX1BBWUxPQURfU0laRSk7CiAgICAgIGNvbnN0IGNodW5rID0gbmV3IFVpbnQ4QXJyYXkoZmlsZURhdGEsIHBvc2l0aW9uLCBsZW5ndGgpOwogICAgICBwb3NpdGlvbiArPSBsZW5ndGg7CgogICAgICBjb25zdCBiYXNlNjQgPSBidG9hKFN0cmluZy5mcm9tQ2hhckNvZGUuYXBwbHkobnVsbCwgY2h1bmspKTsKICAgICAgeWllbGQgewogICAgICAgIHJlc3BvbnNlOiB7CiAgICAgICAgICBhY3Rpb246ICdhcHBlbmQnLAogICAgICAgICAgZmlsZTogZmlsZS5uYW1lLAogICAgICAgICAgZGF0YTogYmFzZTY0LAogICAgICAgIH0sCiAgICAgIH07CiAgICAgIHBlcmNlbnQudGV4dENvbnRlbnQgPQogICAgICAgICAgYCR7TWF0aC5yb3VuZCgocG9zaXRpb24gLyBmaWxlRGF0YS5ieXRlTGVuZ3RoKSAqIDEwMCl9JSBkb25lYDsKICAgIH0KICB9CgogIC8vIEFsbCBkb25lLgogIHlpZWxkIHsKICAgIHJlc3BvbnNlOiB7CiAgICAgIGFjdGlvbjogJ2NvbXBsZXRlJywKICAgIH0KICB9Owp9CgpzY29wZS5nb29nbGUgPSBzY29wZS5nb29nbGUgfHwge307CnNjb3BlLmdvb2dsZS5jb2xhYiA9IHNjb3BlLmdvb2dsZS5jb2xhYiB8fCB7fTsKc2NvcGUuZ29vZ2xlLmNvbGFiLl9maWxlcyA9IHsKICBfdXBsb2FkRmlsZXMsCiAgX3VwbG9hZEZpbGVzQ29udGludWUsCn07Cn0pKHNlbGYpOwo=",
              "ok": true,
              "headers": [
                [
                  "content-type",
                  "application/javascript"
                ]
              ],
              "status": 200,
              "status_text": ""
            }
          },
          "base_uri": "https://localhost:8080/",
          "height": 71
        }
      },
      "source": [
        "# @title Upload files (skip this if this is run locally)\n",
        "\n",
        "# Use this cell to update the following files\n",
        "#   1. requirements.txt\n",
        "#   2. e2e_demo_credential.json\n",
        "#   3. roots.pem\n",
        "#   4. rs256.key\n",
        "from google.colab import files\n",
        "uploaded = files.upload()"
      ],
      "execution_count": 0,
      "outputs": [
        {
          "output_type": "display_data",
          "data": {
            "text/plain": [
              "<IPython.core.display.HTML object>"
            ],
            "text/html": [
              "\n",
              "     <input type=\"file\" id=\"files-a4c62e74-178d-41fa-8c17-fb49c5e3daa4\" name=\"files[]\" multiple disabled />\n",
              "     <output id=\"result-a4c62e74-178d-41fa-8c17-fb49c5e3daa4\">\n",
              "      Upload widget is only available when the cell has been executed in the\n",
              "      current browser session. Please rerun this cell to enable.\n",
              "      </output>\n",
              "      <script src=\"/nbextensions/google.colab/files.js\"></script> "
            ]
          },
          "metadata": {
            "tags": []
          }
        },
        {
          "output_type": "stream",
          "text": [
            "Saving rs256.key to rs256.key\n"
          ],
          "name": "stdout"
        }
      ]
    },
    {
      "cell_type": "code",
      "metadata": {
        "cellView": "both",
        "colab_type": "code",
        "id": "s-5P4SKvm7Dh",
        "scrolled": false,
        "outputId": "88516c7d-72f3-4131-e9b9-a20678d7b870",
        "colab": {
          "base_uri": "https://localhost:8080/",
          "height": 1000
        }
      },
      "source": [
        "# @title Install missing packages\n",
        "\n",
        "# run this cell to install packages if some are missing\n",
        "!pip install -r requirements.txt\n",
        "!pip install gcsfs\n",
        "!pip install pyjwt\n",
        "!pip install paho-mqtt"
      ],
      "execution_count": 0,
      "outputs": [
        {
          "output_type": "stream",
          "text": [
            "Requirement already satisfied: google-api-python-client in /usr/local/lib/python2.7/dist-packages (from -r requirements.txt (line 1)) (1.7.9)\n",
            "Requirement already satisfied: google-cloud-bigquery in /usr/local/lib/python2.7/dist-packages (from -r requirements.txt (line 2)) (1.14.0)\n",
            "Requirement already satisfied: google-cloud-pubsub in /usr/local/lib/python2.7/dist-packages (from -r requirements.txt (line 3)) (1.4.3)\n",
            "Requirement already satisfied: Flask==1.0.2 in /usr/local/lib/python2.7/dist-packages (from -r requirements.txt (line 4)) (1.0.2)\n",
            "Requirement already satisfied: requests==2.20.0 in /usr/local/lib/python2.7/dist-packages (from -r requirements.txt (line 5)) (2.20.0)\n",
            "Requirement already satisfied: google-auth-httplib2>=0.0.3 in /usr/local/lib/python2.7/dist-packages (from google-api-python-client->-r requirements.txt (line 1)) (0.0.3)\n",
            "Requirement already satisfied: google-auth>=1.4.1 in /usr/local/lib/python2.7/dist-packages (from google-api-python-client->-r requirements.txt (line 1)) (1.7.2)\n",
            "Requirement already satisfied: httplib2<1dev,>=0.9.2 in /usr/local/lib/python2.7/dist-packages (from google-api-python-client->-r requirements.txt (line 1)) (0.11.3)\n",
            "Requirement already satisfied: six<2dev,>=1.6.1 in /usr/local/lib/python2.7/dist-packages (from google-api-python-client->-r requirements.txt (line 1)) (1.12.0)\n",
            "Requirement already satisfied: uritemplate<4dev,>=3.0.0 in /usr/local/lib/python2.7/dist-packages (from google-api-python-client->-r requirements.txt (line 1)) (3.0.0)\n",
            "Requirement already satisfied: google-cloud-core<2.0dev,>=1.0.0 in /usr/local/lib/python2.7/dist-packages (from google-cloud-bigquery->-r requirements.txt (line 2)) (1.0.2)\n",
            "Requirement already satisfied: enum34; python_version < \"3.4\" in /usr/local/lib/python2.7/dist-packages (from google-cloud-bigquery->-r requirements.txt (line 2)) (1.1.6)\n",
            "Requirement already satisfied: protobuf>=3.6.0 in /usr/local/lib/python2.7/dist-packages (from google-cloud-bigquery->-r requirements.txt (line 2)) (3.8.0)\n",
            "Requirement already satisfied: google-resumable-media>=0.3.1 in /usr/local/lib/python2.7/dist-packages (from google-cloud-bigquery->-r requirements.txt (line 2)) (0.3.2)\n",
            "Requirement already satisfied: google-api-core[grpc]<1.17.0,>=1.14.0 in /usr/local/lib/python2.7/dist-packages (from google-cloud-pubsub->-r requirements.txt (line 3)) (1.16.0)\n",
            "Requirement already satisfied: grpc-google-iam-v1<0.13dev,>=0.12.3 in /usr/local/lib/python2.7/dist-packages (from google-cloud-pubsub->-r requirements.txt (line 3)) (0.12.3)\n",
            "Requirement already satisfied: Werkzeug>=0.14 in /usr/local/lib/python2.7/dist-packages (from Flask==1.0.2->-r requirements.txt (line 4)) (0.15.5)\n",
            "Requirement already satisfied: click>=5.1 in /usr/local/lib/python2.7/dist-packages (from Flask==1.0.2->-r requirements.txt (line 4)) (7.0)\n",
            "Requirement already satisfied: Jinja2>=2.10 in /usr/local/lib/python2.7/dist-packages (from Flask==1.0.2->-r requirements.txt (line 4)) (2.10.1)\n",
            "Requirement already satisfied: itsdangerous>=0.24 in /usr/local/lib/python2.7/dist-packages (from Flask==1.0.2->-r requirements.txt (line 4)) (1.1.0)\n",
            "Requirement already satisfied: idna<2.8,>=2.5 in /usr/local/lib/python2.7/dist-packages (from requests==2.20.0->-r requirements.txt (line 5)) (2.7)\n",
            "Requirement already satisfied: urllib3<1.25,>=1.21.1 in /usr/local/lib/python2.7/dist-packages (from requests==2.20.0->-r requirements.txt (line 5)) (1.24.3)\n",
            "Requirement already satisfied: certifi>=2017.4.17 in /usr/local/lib/python2.7/dist-packages (from requests==2.20.0->-r requirements.txt (line 5)) (2019.6.16)\n",
            "Requirement already satisfied: chardet<3.1.0,>=3.0.2 in /usr/local/lib/python2.7/dist-packages (from requests==2.20.0->-r requirements.txt (line 5)) (3.0.4)\n",
            "Requirement already satisfied: pyasn1-modules>=0.2.1 in /usr/local/lib/python2.7/dist-packages (from google-auth>=1.4.1->google-api-python-client->-r requirements.txt (line 1)) (0.2.5)\n",
            "Requirement already satisfied: setuptools>=40.3.0 in /usr/local/lib/python2.7/dist-packages (from google-auth>=1.4.1->google-api-python-client->-r requirements.txt (line 1)) (44.1.0)\n",
            "Requirement already satisfied: cachetools<3.2,>=2.0.0 in /usr/local/lib/python2.7/dist-packages (from google-auth>=1.4.1->google-api-python-client->-r requirements.txt (line 1)) (3.1.1)\n",
            "Requirement already satisfied: rsa<4.1,>=3.1.4 in /usr/local/lib/python2.7/dist-packages (from google-auth>=1.4.1->google-api-python-client->-r requirements.txt (line 1)) (4.0)\n",
            "Requirement already satisfied: futures>=3.2.0; python_version < \"3.2\" in /usr/local/lib/python2.7/dist-packages (from google-api-core[grpc]<1.17.0,>=1.14.0->google-cloud-pubsub->-r requirements.txt (line 3)) (3.2.0)\n",
            "Requirement already satisfied: pytz in /usr/local/lib/python2.7/dist-packages (from google-api-core[grpc]<1.17.0,>=1.14.0->google-cloud-pubsub->-r requirements.txt (line 3)) (2018.9)\n",
            "Requirement already satisfied: googleapis-common-protos<2.0dev,>=1.6.0 in /usr/local/lib/python2.7/dist-packages (from google-api-core[grpc]<1.17.0,>=1.14.0->google-cloud-pubsub->-r requirements.txt (line 3)) (1.6.0)\n",
            "Requirement already satisfied: grpcio<2.0dev,>=1.8.2; extra == \"grpc\" in /usr/local/lib/python2.7/dist-packages (from google-api-core[grpc]<1.17.0,>=1.14.0->google-cloud-pubsub->-r requirements.txt (line 3)) (1.15.0)\n",
            "Requirement already satisfied: MarkupSafe>=0.23 in /usr/local/lib/python2.7/dist-packages (from Jinja2>=2.10->Flask==1.0.2->-r requirements.txt (line 4)) (1.1.1)\n",
            "Requirement already satisfied: pyasn1<0.5.0,>=0.4.1 in /usr/local/lib/python2.7/dist-packages (from pyasn1-modules>=0.2.1->google-auth>=1.4.1->google-api-python-client->-r requirements.txt (line 1)) (0.4.5)\n",
            "Requirement already satisfied: gcsfs in /usr/local/lib/python2.7/dist-packages (0.2.3)\n",
            "Requirement already satisfied: requests in /usr/local/lib/python2.7/dist-packages (from gcsfs) (2.20.0)\n",
            "Requirement already satisfied: google-auth-oauthlib in /usr/local/lib/python2.7/dist-packages (from gcsfs) (0.4.0)\n",
            "Requirement already satisfied: google-auth>=1.2 in /usr/local/lib/python2.7/dist-packages (from gcsfs) (1.7.2)\n",
            "Requirement already satisfied: decorator in /usr/local/lib/python2.7/dist-packages (from gcsfs) (4.4.0)\n",
            "Requirement already satisfied: idna<2.8,>=2.5 in /usr/local/lib/python2.7/dist-packages (from requests->gcsfs) (2.7)\n",
            "Requirement already satisfied: urllib3<1.25,>=1.21.1 in /usr/local/lib/python2.7/dist-packages (from requests->gcsfs) (1.24.3)\n",
            "Requirement already satisfied: certifi>=2017.4.17 in /usr/local/lib/python2.7/dist-packages (from requests->gcsfs) (2019.6.16)\n",
            "Requirement already satisfied: chardet<3.1.0,>=3.0.2 in /usr/local/lib/python2.7/dist-packages (from requests->gcsfs) (3.0.4)\n",
            "Requirement already satisfied: requests-oauthlib>=0.7.0 in /usr/local/lib/python2.7/dist-packages (from google-auth-oauthlib->gcsfs) (1.2.0)\n",
            "Requirement already satisfied: six>=1.9.0 in /usr/local/lib/python2.7/dist-packages (from google-auth>=1.2->gcsfs) (1.12.0)\n",
            "Requirement already satisfied: pyasn1-modules>=0.2.1 in /usr/local/lib/python2.7/dist-packages (from google-auth>=1.2->gcsfs) (0.2.5)\n",
            "Requirement already satisfied: setuptools>=40.3.0 in /usr/local/lib/python2.7/dist-packages (from google-auth>=1.2->gcsfs) (44.1.0)\n",
            "Requirement already satisfied: cachetools<3.2,>=2.0.0 in /usr/local/lib/python2.7/dist-packages (from google-auth>=1.2->gcsfs) (3.1.1)\n",
            "Requirement already satisfied: rsa<4.1,>=3.1.4 in /usr/local/lib/python2.7/dist-packages (from google-auth>=1.2->gcsfs) (4.0)\n",
            "Requirement already satisfied: oauthlib>=3.0.0 in /usr/local/lib/python2.7/dist-packages (from requests-oauthlib>=0.7.0->google-auth-oauthlib->gcsfs) (3.0.2)\n",
            "Requirement already satisfied: pyasn1<0.5.0,>=0.4.1 in /usr/local/lib/python2.7/dist-packages (from pyasn1-modules>=0.2.1->google-auth>=1.2->gcsfs) (0.4.5)\n",
            "Requirement already satisfied: pyjwt in /usr/local/lib/python2.7/dist-packages (1.7.1)\n",
            "Collecting paho-mqtt\n",
            "\u001b[?25l  Downloading https://files.pythonhosted.org/packages/59/11/1dd5c70f0f27a88a3a05772cd95f6087ac479fac66d9c7752ee5e16ddbbc/paho-mqtt-1.5.0.tar.gz (99kB)\n",
            "\u001b[K     |████████████████████████████████| 102kB 2.3MB/s \n",
            "\u001b[?25hBuilding wheels for collected packages: paho-mqtt\n",
            "  Building wheel for paho-mqtt (setup.py) ... \u001b[?25l\u001b[?25hdone\n",
            "  Created wheel for paho-mqtt: filename=paho_mqtt-1.5.0-cp27-none-any.whl size=61415 sha256=cc824e59d83f66cc2f6a3a4a9dac384079de28b52334efd4a3364de1eaeb4af6\n",
            "  Stored in directory: /root/.cache/pip/wheels/02/94/6c/8474137cb7a5a3e001d70a22c8ff919caee69435376bccce79\n",
            "Successfully built paho-mqtt\n",
            "Installing collected packages: paho-mqtt\n",
            "Successfully installed paho-mqtt-1.5.0\n"
          ],
          "name": "stdout"
        }
      ]
    },
    {
      "cell_type": "code",
      "metadata": {
        "cellView": "form",
        "colab_type": "code",
        "id": "zB_AzB1Mm7Dm",
        "colab": {}
      },
      "source": [
        "# @title Import libraries\n",
        "\n",
        "import json\n",
        "import os\n",
        "import gcsfs\n",
        "import numpy as np\n",
        "import pandas as pd\n",
        "import time\n",
        "import google.cloud.bigquery\n",
        "import datetime\n",
        "import random\n",
        "import ssl\n",
        "import jwt\n",
        "import paho.mqtt.client as mqtt\n",
        "import pandas as pd\n",
        "import json\n",
        "import sys"
      ],
      "execution_count": 0,
      "outputs": []
    },
    {
      "cell_type": "code",
      "metadata": {
        "cellView": "form",
        "colab_type": "code",
        "id": "PgvqcvTbm7Dq",
        "colab": {}
      },
      "source": [
        "# @title Configurations\n",
        "\n",
        "# project related\n",
        "GOOGLE_CLOUD_PROJECT = 'my-project-fy' #@param\n",
        "GOOGLE_APPLICATION_CREDENTIALS = 'e2e_demo_credential.json' #@param\n",
        "os.environ['GOOGLE_APPLICATION_CREDENTIALS'] = GOOGLE_APPLICATION_CREDENTIALS\n",
        "\n",
        "# IoT related\n",
        "REGION = 'asia-east1' #@param\n",
        "REGISTRY_ID = 'fy-project-registry' #@param\n",
        "DEVICE_IDS = ['fy-raspi'] #@param\n",
        "PRIVATE_KEY_PATH = 'rs256.key' #@param\n",
        "CA_CERTIFICATES_PATH = 'roots.pem' #@param\n",
        "\n",
        "# data related\n",
        "POWER_DATA_PATH = 'gs://gcp_blog/e2e_demo/test.csv'\n",
        "DATASET_ID = 'EnergyDisaggregation'"
      ],
      "execution_count": 0,
      "outputs": []
    },
    {
      "cell_type": "markdown",
      "metadata": {
        "colab_type": "text",
        "id": "uBWiiYeKm7D2"
      },
      "source": [
        "# Start to publish data"
      ]
    },
    {
      "cell_type": "markdown",
      "metadata": {
        "colab_type": "text",
        "id": "pY7Xf0BPm7D9"
      },
      "source": [
        "When the following cells are run, the program mimics multiple electric meters each of which sends readings at the specified interval to a server residing in GAE.  \n",
        "The GAE forwards the readings to CMLE where a trained model is deployed, and it publishes the data together with CMLE's predictions to pub/sub, both the data and the predictions are also saved in BigQuery for future analysis."
      ]
    },
    {
      "cell_type": "code",
      "metadata": {
        "cellView": "form",
        "colab_type": "code",
        "id": "Nj9SynKJm7D2",
        "scrolled": true,
        "colab": {}
      },
      "source": [
        "# @title Utility\n",
        "\n",
        "def load_data(project, path):\n",
        "  \"\"\"Load test data from GCS.\n",
        "\n",
        "  Load test csv data from GCS.\n",
        "\n",
        "  Returns:\n",
        "    pandas.DataFrame, active power data.\n",
        "  \"\"\"\n",
        "  fs = gcsfs.GCSFileSystem(project)\n",
        "  with fs.open(path) as f:\n",
        "    power_data = pd.read_csv(f, index_col=0)['gross']\n",
        "  return power_data\n",
        "\n",
        "# The maximum backoff time before giving up, in seconds.\n",
        "MAXIMUM_BACKOFF_TIME = 32\n",
        "\n",
        "class Publisher:\n",
        "    \"\"\"Publish power data every n seconds.\"\"\"\n",
        "\n",
        "    # The initial backoff time after a disconnection occurs, in seconds.\n",
        "    minimum_backoff_time = 1\n",
        "\n",
        "    # Whether to wait with exponential backoff before publishing.\n",
        "    should_backoff = False\n",
        "\n",
        "    def __init__(self,\n",
        "            project_id,\n",
        "            region,\n",
        "            registry_id,\n",
        "            device_id,\n",
        "            private_key_path,\n",
        "            jwt_algorithm,\n",
        "            jwt_exp_mins,\n",
        "            ca_certs_path,\n",
        "            mqtt_bridge_hostname,\n",
        "            mqtt_bridge_port,\n",
        "            seq_len,\n",
        "            sub_topic='events',\n",
        "            interval=1):\n",
        "        self.project_id = project_id\n",
        "        self.region = region\n",
        "        self.registry_id = registry_id\n",
        "        self.device_id = device_id\n",
        "        self.private_key_path = private_key_path\n",
        "        self.jwt_algorithm = jwt_algorithm\n",
        "        self.jwt_exp_mins = jwt_exp_mins\n",
        "        self.ca_certs_path = ca_certs_path\n",
        "        self.mqtt_bridge_hostname = mqtt_bridge_hostname\n",
        "        self.mqtt_bridge_port = mqtt_bridge_port\n",
        "        self.seq_len=seq_len\n",
        "        self.sub_topic = sub_topic\n",
        "        self.interval = interval\n",
        "\n",
        "        self._count = 0\n",
        "        self._data = {}\n",
        "        self._mqtt_topic = '/devices/{}/{}'.format(self.device_id, self.sub_topic)\n",
        "        self._jwt_iat = datetime.datetime.utcnow()\n",
        "        self._active = False\n",
        "\n",
        "\n",
        "    def create_jwt(self):\n",
        "        \"\"\"Creates a JWT (https://jwt.io) to establish an MQTT connection.\n",
        "            Returns:\n",
        "                An MQTT generated from the given project_id and private key, which\n",
        "                expires in 20 minutes. After 20 minutes, your client will be\n",
        "                disconnected, and a new JWT will have to be generated.\n",
        "            Raises:\n",
        "                ValueError: If the private_key_file does not contain a known key.\n",
        "            \"\"\"\n",
        "        token = {\n",
        "                # The time that the token was issued at\n",
        "                'iat': datetime.datetime.utcnow(),\n",
        "                # The time the token expires.\n",
        "                'exp': datetime.datetime.utcnow() + datetime.timedelta(minutes=60),\n",
        "                # The audience field should always be set to the GCP project id.\n",
        "                'aud': self.project_id\n",
        "        }\n",
        "\n",
        "        # Read the private key file.\n",
        "        with open(self.private_key_path, 'r') as f:\n",
        "            private_key = f.read()\n",
        "\n",
        "        print('Creating JWT using {} from private key file {}'.format(\n",
        "                self.jwt_algorithm, self.private_key_path))\n",
        "\n",
        "        return jwt.encode(token, private_key, algorithm=self.jwt_algorithm)\n",
        "\n",
        "    def get_client(self):\n",
        "        \"\"\"Create our MQTT client. The client_id is a unique string that identifies\n",
        "        this device. For Google Cloud IoT Core, it must be in the format below.\"\"\"\n",
        "        client = mqtt.Client(\n",
        "                client_id=('projects/{}/locations/{}/registries/{}/devices/{}'\n",
        "                           .format(\n",
        "                                   self.project_id,\n",
        "                                   self.region,\n",
        "                                   self.registry_id,\n",
        "                                   self.device_id)))\n",
        "\n",
        "        # With Google Cloud IoT Core, the username field is ignored, and the\n",
        "        # password field is used to transmit a JWT to authorize the device.\n",
        "        client.username_pw_set(\n",
        "                username='unused',\n",
        "                password=self.create_jwt())\n",
        "\n",
        "        # Enable SSL/TLS support.\n",
        "        client.tls_set(ca_certs=self.ca_certs_path, tls_version=ssl.PROTOCOL_TLSv1_2)\n",
        "\n",
        "        # Register message callbacks. https://eclipse.org/paho/clients/python/docs/\n",
        "        # describes additional callbacks that Paho supports.\n",
        "        client.on_connect = self.on_connect\n",
        "        client.on_publish = self.on_publish\n",
        "        client.on_disconnect = self.on_disconnect\n",
        "        \n",
        "        return client\n",
        "\n",
        "    def publish(self):\n",
        "        # Finish if inactive\n",
        "        if not self._active:\n",
        "            return\n",
        "\n",
        "        # Process network events.\n",
        "        self.client.loop()\n",
        "\n",
        "        # Wait if backoff is required.\n",
        "        if Publisher.should_backoff:\n",
        "            # If backoff time is too large, give up.\n",
        "            if Publisher.minimum_backoff_time > MAXIMUM_BACKOFF_TIME:\n",
        "                print('Exceeded maximum backoff time. Giving up.')\n",
        "                return\n",
        "            # Otherwise, wait and connect again.\n",
        "            delay = Publisher.minimum_backoff_time + random.randint(0, 1000) / 1000.0\n",
        "            print('Waiting for {} before reconnecting.'.format(delay))\n",
        "            time.sleep(delay)\n",
        "            Publisher.minimum_backoff_time *= 2\n",
        "            self.client.connect(self.mqtt_bridge_hostname, self.mqtt_bridge_port)\n",
        "\n",
        "        # Refresh token if JWT iat has been expired.\n",
        "        seconds_since_issue = (datetime.datetime.utcnow() - self._jwt_iat).seconds\n",
        "        if seconds_since_issue > 60 * self.jwt_exp_mins:\n",
        "            print('Refreshing token after {}s').format(seconds_since_issue)\n",
        "            self._jwt_iat = datetime.datetime.utcnow()\n",
        "            self.client = self.get_client()\n",
        "\n",
        "        # Generate payload\n",
        "        d, t = self._data[self._count]\n",
        "        Publisher.rotate_message(self._msg, d, t)\n",
        "        payload = json.dumps(self._msg).encode('utf-8')\n",
        "\n",
        "        # Publish \"payload\" to the MQTT topic. qos=1 means at least once\n",
        "        # delivery. Cloud IoT Core also supports qos=0 for at most once\n",
        "        # delivery.\n",
        "        self.client.publish(self._mqtt_topic, payload, qos=1)\n",
        "        print('Published: #{0:03d} on {1} sent: ({2}, {3}).'.format(self._count+1, self.device_id, self._msg['power'][-1], self._msg['timestamp'][-1]))\n",
        "        self._count += 1\n",
        "\n",
        "    def start(self, data, start_time=None, cnt=0):\n",
        "        \"\"\"Publish payloads to the MQTT topic.\n",
        "            Args:\n",
        "             data: pandas.DataFrame, active power data.\n",
        "             interval: int, time in second.\n",
        "             start_time: str, publish data collected from start_time.\n",
        "             cnt: int, number of data records to publish. If cnt<=0, publish all.\n",
        "            \"\"\"\n",
        "        data = Publisher.trim_data(data, start_time)\n",
        "        self.client = self.get_client()\n",
        "\n",
        "        data_info = data.values.tolist()\n",
        "        time_info = data.index.values.tolist()\n",
        "        self._data = zip(data_info[self.seq_len-1:], time_info[self.seq_len-1:])\n",
        "        self._msg = {'device_id': self.device_id, 'power': [0] + data_info[:self.seq_len-1],\n",
        "            'timestamp': [0] + time_info[:self.seq_len-1]}\n",
        "        self._active = True\n",
        "\n",
        "        self.client.loop_start()\n",
        "        \n",
        "        # Connect to the Google MQTT bridge.\n",
        "        self.client.connect(self.mqtt_bridge_hostname, self.mqtt_bridge_port)\n",
        "    \n",
        "    def stop(self):\n",
        "        print \"Stop loop\"\n",
        "        self._active = False\n",
        "        self.client.loop_stop()\n",
        "        self.client.disconnect()\n",
        "\n",
        "    @staticmethod\n",
        "    def rotate_message(msg, data, time):\n",
        "        \"\"\"Rotate msg according to the prescribed rule.\n",
        "            Args:\n",
        "             msg: dict,\n",
        "             data: int, active power data.\n",
        "             time: str, the time of measurement\n",
        "            Returns: Payload for use in publishing\n",
        "            \"\"\"\n",
        "        msg['power'].pop(0)\n",
        "        msg['power'].append(data)\n",
        "        msg['timestamp'].pop(0)\n",
        "        msg['timestamp'].append(time)\n",
        "\n",
        "    @staticmethod\n",
        "    def trim_data(data, start_time):\n",
        "        \"\"\"Trims data with start time.\n",
        "            Args:\n",
        "             data: pandas.DataFrame, active power data.\n",
        "             start_time: str, publish data collected from start_time.\n",
        "            Returns: Trimmed data\n",
        "            \"\"\"\n",
        "        if start_time is not None:\n",
        "            print('before data trimming: data.shape={}'.format(data.shape))\n",
        "            data = data[data.index.values >= start_time]\n",
        "            print('after data trimming: data.shape={}'.format(data.shape))\n",
        "        return data\n",
        "\n",
        "    def error_str(self, rc):\n",
        "        \"\"\"Convert a Paho error to a human readable string.\"\"\"\n",
        "        return '{}: {}'.format(rc, mqtt.error_string(rc))\n",
        "\n",
        "    def on_connect(self, unused_client, unused_userdata, unused_flags, rc):\n",
        "        \"\"\"Callback for when a device connects.\"\"\"\n",
        "        print('connected: {}'.format(mqtt.connack_string(rc)))\n",
        "\n",
        "        # After a successful connect, reset backoff time and stop backing off.\n",
        "        Publisher.should_backoff = False\n",
        "        Publisher.minimum_backoff_time = 1\n",
        "\n",
        "        # Trigger initial publish\n",
        "        self.publish()\n",
        "\n",
        "    def on_disconnect(self, unused_client, unused_userdata, rc):\n",
        "        \"\"\"Paho callback for when a device disconnects.\"\"\"\n",
        "        print('disconnected because: {}'.format(error_str(rc)))\n",
        "\n",
        "        # Since a disconnect occurred, the next loop iteration will wait with\n",
        "        # exponential backoff.\n",
        "        Publisher.should_backoff = True\n",
        "\n",
        "    def on_publish(self, unused_client, unused_userdata, unused_mid):\n",
        "        \"\"\"Paho callback when a message is sent to the broker.\"\"\"\n",
        "        time.sleep(self.interval)\n",
        "        self.publish()"
      ],
      "execution_count": 0,
      "outputs": []
    },
    {
      "cell_type": "code",
      "metadata": {
        "cellView": "form",
        "colab_type": "code",
        "id": "Opz0V0Lrm7D6",
        "outputId": "ccbdc3d0-9a92-4072-89ce-b017398df009",
        "colab": {
          "base_uri": "https://localhost:8080/",
          "height": 34
        }
      },
      "source": [
        "# @title Load power consumption data\n",
        "\n",
        "power_data = load_data(GOOGLE_CLOUD_PROJECT, POWER_DATA_PATH)\n",
        "print power_data.shape"
      ],
      "execution_count": 0,
      "outputs": [
        {
          "output_type": "stream",
          "text": [
            "(432000,)\n"
          ],
          "name": "stdout"
        }
      ]
    },
    {
      "cell_type": "code",
      "metadata": {
        "cellView": "both",
        "colab_type": "code",
        "id": "yL1WEVgIm7D-",
        "outputId": "28788cca-f9a7-4ac2-f264-ca50b4b88b46",
        "colab": {
          "base_uri": "https://localhost:8080/",
          "height": 426
        }
      },
      "source": [
        "# @title Send power data\n",
        "\n",
        "publishers = []\n",
        "for device_id in DEVICE_IDS:\n",
        "    publisher = Publisher(\n",
        "            project_id=GOOGLE_CLOUD_PROJECT,\n",
        "            region=REGION,\n",
        "            registry_id=REGISTRY_ID,\n",
        "            device_id=device_id,\n",
        "            private_key_path=PRIVATE_KEY_PATH,\n",
        "            ca_certs_path=CA_CERTIFICATES_PATH,\n",
        "            jwt_exp_mins=20,\n",
        "            jwt_algorithm='RS256',\n",
        "            mqtt_bridge_hostname='mqtt.googleapis.com',\n",
        "            mqtt_bridge_port=8883,\n",
        "            seq_len=20,\n",
        "            sub_topic='events')\n",
        "\n",
        "    publisher.start(data=power_data, start_time='2013-09-21 20:18:00')\n",
        "    publishers.append(publisher)\n",
        "\n",
        "try: \n",
        "    while True:\n",
        "        time.sleep(1)\n",
        "except KeyboardInterrupt:\n",
        "    for publisher in publishers:\n",
        "        publisher.stop()"
      ],
      "execution_count": 0,
      "outputs": [
        {
          "output_type": "stream",
          "text": [
            "before data trimming: data.shape=(432000,)\n",
            "after data trimming: data.shape=(131820,)\n",
            "Creating JWT using RS256 from private key file rs256.key\n"
          ],
          "name": "stdout"
        },
        {
          "output_type": "error",
          "ename": "ValueError",
          "evalue": "ignored",
          "traceback": [
            "\u001b[0;31m\u001b[0m",
            "\u001b[0;31mValueError\u001b[0mTraceback (most recent call last)",
            "\u001b[0;32m<ipython-input-27-66b51f7ea3ec>\u001b[0m in \u001b[0;36m<module>\u001b[0;34m()\u001b[0m\n\u001b[1;32m     16\u001b[0m             sub_topic='events')\n\u001b[1;32m     17\u001b[0m \u001b[0;34m\u001b[0m\u001b[0m\n\u001b[0;32m---> 18\u001b[0;31m     \u001b[0mpublisher\u001b[0m\u001b[0;34m.\u001b[0m\u001b[0mstart\u001b[0m\u001b[0;34m(\u001b[0m\u001b[0mdata\u001b[0m\u001b[0;34m=\u001b[0m\u001b[0mpower_data\u001b[0m\u001b[0;34m,\u001b[0m \u001b[0mstart_time\u001b[0m\u001b[0;34m=\u001b[0m\u001b[0;34m'2013-09-21 20:18:00'\u001b[0m\u001b[0;34m)\u001b[0m\u001b[0;34m\u001b[0m\u001b[0m\n\u001b[0m\u001b[1;32m     19\u001b[0m     \u001b[0mpublishers\u001b[0m\u001b[0;34m.\u001b[0m\u001b[0mappend\u001b[0m\u001b[0;34m(\u001b[0m\u001b[0mpublisher\u001b[0m\u001b[0;34m)\u001b[0m\u001b[0;34m\u001b[0m\u001b[0m\n\u001b[1;32m     20\u001b[0m \u001b[0;34m\u001b[0m\u001b[0m\n",
            "\u001b[0;32m<ipython-input-23-8abfde44b46b>\u001b[0m in \u001b[0;36mstart\u001b[0;34m(self, data, start_time, cnt)\u001b[0m\n\u001b[1;32m    164\u001b[0m             \"\"\"\n\u001b[1;32m    165\u001b[0m         \u001b[0mdata\u001b[0m \u001b[0;34m=\u001b[0m \u001b[0mPublisher\u001b[0m\u001b[0;34m.\u001b[0m\u001b[0mtrim_data\u001b[0m\u001b[0;34m(\u001b[0m\u001b[0mdata\u001b[0m\u001b[0;34m,\u001b[0m \u001b[0mstart_time\u001b[0m\u001b[0;34m)\u001b[0m\u001b[0;34m\u001b[0m\u001b[0m\n\u001b[0;32m--> 166\u001b[0;31m         \u001b[0mself\u001b[0m\u001b[0;34m.\u001b[0m\u001b[0mclient\u001b[0m \u001b[0;34m=\u001b[0m \u001b[0mself\u001b[0m\u001b[0;34m.\u001b[0m\u001b[0mget_client\u001b[0m\u001b[0;34m(\u001b[0m\u001b[0;34m)\u001b[0m\u001b[0;34m\u001b[0m\u001b[0m\n\u001b[0m\u001b[1;32m    167\u001b[0m \u001b[0;34m\u001b[0m\u001b[0m\n\u001b[1;32m    168\u001b[0m         \u001b[0mdata_info\u001b[0m \u001b[0;34m=\u001b[0m \u001b[0mdata\u001b[0m\u001b[0;34m.\u001b[0m\u001b[0mvalues\u001b[0m\u001b[0;34m.\u001b[0m\u001b[0mtolist\u001b[0m\u001b[0;34m(\u001b[0m\u001b[0;34m)\u001b[0m\u001b[0;34m\u001b[0m\u001b[0m\n",
            "\u001b[0;32m<ipython-input-23-8abfde44b46b>\u001b[0m in \u001b[0;36mget_client\u001b[0;34m(self)\u001b[0m\n\u001b[1;32m    102\u001b[0m         client.username_pw_set(\n\u001b[1;32m    103\u001b[0m                 \u001b[0musername\u001b[0m\u001b[0;34m=\u001b[0m\u001b[0;34m'unused'\u001b[0m\u001b[0;34m,\u001b[0m\u001b[0;34m\u001b[0m\u001b[0m\n\u001b[0;32m--> 104\u001b[0;31m                 password=self.create_jwt())\n\u001b[0m\u001b[1;32m    105\u001b[0m \u001b[0;34m\u001b[0m\u001b[0m\n\u001b[1;32m    106\u001b[0m         \u001b[0;31m# Enable SSL/TLS support.\u001b[0m\u001b[0;34m\u001b[0m\u001b[0;34m\u001b[0m\u001b[0m\n",
            "\u001b[0;32m<ipython-input-23-8abfde44b46b>\u001b[0m in \u001b[0;36mcreate_jwt\u001b[0;34m(self)\u001b[0m\n\u001b[1;32m     85\u001b[0m                 self.jwt_algorithm, self.private_key_path))\n\u001b[1;32m     86\u001b[0m \u001b[0;34m\u001b[0m\u001b[0m\n\u001b[0;32m---> 87\u001b[0;31m         \u001b[0;32mreturn\u001b[0m \u001b[0mjwt\u001b[0m\u001b[0;34m.\u001b[0m\u001b[0mencode\u001b[0m\u001b[0;34m(\u001b[0m\u001b[0mtoken\u001b[0m\u001b[0;34m,\u001b[0m \u001b[0mprivate_key\u001b[0m\u001b[0;34m,\u001b[0m \u001b[0malgorithm\u001b[0m\u001b[0;34m=\u001b[0m\u001b[0mself\u001b[0m\u001b[0;34m.\u001b[0m\u001b[0mjwt_algorithm\u001b[0m\u001b[0;34m)\u001b[0m\u001b[0;34m\u001b[0m\u001b[0m\n\u001b[0m\u001b[1;32m     88\u001b[0m \u001b[0;34m\u001b[0m\u001b[0m\n\u001b[1;32m     89\u001b[0m     \u001b[0;32mdef\u001b[0m \u001b[0mget_client\u001b[0m\u001b[0;34m(\u001b[0m\u001b[0mself\u001b[0m\u001b[0;34m)\u001b[0m\u001b[0;34m:\u001b[0m\u001b[0;34m\u001b[0m\u001b[0m\n",
            "\u001b[0;32m/usr/local/lib/python2.7/dist-packages/jwt/api_jwt.pyc\u001b[0m in \u001b[0;36mencode\u001b[0;34m(self, payload, key, algorithm, headers, json_encoder)\u001b[0m\n\u001b[1;32m     63\u001b[0m \u001b[0;34m\u001b[0m\u001b[0m\n\u001b[1;32m     64\u001b[0m         return super(PyJWT, self).encode(\n\u001b[0;32m---> 65\u001b[0;31m             \u001b[0mjson_payload\u001b[0m\u001b[0;34m,\u001b[0m \u001b[0mkey\u001b[0m\u001b[0;34m,\u001b[0m \u001b[0malgorithm\u001b[0m\u001b[0;34m,\u001b[0m \u001b[0mheaders\u001b[0m\u001b[0;34m,\u001b[0m \u001b[0mjson_encoder\u001b[0m\u001b[0;34m\u001b[0m\u001b[0m\n\u001b[0m\u001b[1;32m     66\u001b[0m         )\n\u001b[1;32m     67\u001b[0m \u001b[0;34m\u001b[0m\u001b[0m\n",
            "\u001b[0;32m/usr/local/lib/python2.7/dist-packages/jwt/api_jws.pyc\u001b[0m in \u001b[0;36mencode\u001b[0;34m(self, payload, key, algorithm, headers, json_encoder)\u001b[0m\n\u001b[1;32m    111\u001b[0m         \u001b[0;32mtry\u001b[0m\u001b[0;34m:\u001b[0m\u001b[0;34m\u001b[0m\u001b[0m\n\u001b[1;32m    112\u001b[0m             \u001b[0malg_obj\u001b[0m \u001b[0;34m=\u001b[0m \u001b[0mself\u001b[0m\u001b[0;34m.\u001b[0m\u001b[0m_algorithms\u001b[0m\u001b[0;34m[\u001b[0m\u001b[0malgorithm\u001b[0m\u001b[0;34m]\u001b[0m\u001b[0;34m\u001b[0m\u001b[0m\n\u001b[0;32m--> 113\u001b[0;31m             \u001b[0mkey\u001b[0m \u001b[0;34m=\u001b[0m \u001b[0malg_obj\u001b[0m\u001b[0;34m.\u001b[0m\u001b[0mprepare_key\u001b[0m\u001b[0;34m(\u001b[0m\u001b[0mkey\u001b[0m\u001b[0;34m)\u001b[0m\u001b[0;34m\u001b[0m\u001b[0m\n\u001b[0m\u001b[1;32m    114\u001b[0m             \u001b[0msignature\u001b[0m \u001b[0;34m=\u001b[0m \u001b[0malg_obj\u001b[0m\u001b[0;34m.\u001b[0m\u001b[0msign\u001b[0m\u001b[0;34m(\u001b[0m\u001b[0msigning_input\u001b[0m\u001b[0;34m,\u001b[0m \u001b[0mkey\u001b[0m\u001b[0;34m)\u001b[0m\u001b[0;34m\u001b[0m\u001b[0m\n\u001b[1;32m    115\u001b[0m \u001b[0;34m\u001b[0m\u001b[0m\n",
            "\u001b[0;32m/usr/local/lib/python2.7/dist-packages/jwt/algorithms.pyc\u001b[0m in \u001b[0;36mprepare_key\u001b[0;34m(self, key)\u001b[0m\n\u001b[1;32m    205\u001b[0m                         \u001b[0mkey\u001b[0m \u001b[0;34m=\u001b[0m \u001b[0mload_pem_private_key\u001b[0m\u001b[0;34m(\u001b[0m\u001b[0mkey\u001b[0m\u001b[0;34m,\u001b[0m \u001b[0mpassword\u001b[0m\u001b[0;34m=\u001b[0m\u001b[0mNone\u001b[0m\u001b[0;34m,\u001b[0m \u001b[0mbackend\u001b[0m\u001b[0;34m=\u001b[0m\u001b[0mdefault_backend\u001b[0m\u001b[0;34m(\u001b[0m\u001b[0;34m)\u001b[0m\u001b[0;34m)\u001b[0m\u001b[0;34m\u001b[0m\u001b[0m\n\u001b[1;32m    206\u001b[0m                 \u001b[0;32mexcept\u001b[0m \u001b[0mValueError\u001b[0m\u001b[0;34m:\u001b[0m\u001b[0;34m\u001b[0m\u001b[0m\n\u001b[0;32m--> 207\u001b[0;31m                     \u001b[0mkey\u001b[0m \u001b[0;34m=\u001b[0m \u001b[0mload_pem_public_key\u001b[0m\u001b[0;34m(\u001b[0m\u001b[0mkey\u001b[0m\u001b[0;34m,\u001b[0m \u001b[0mbackend\u001b[0m\u001b[0;34m=\u001b[0m\u001b[0mdefault_backend\u001b[0m\u001b[0;34m(\u001b[0m\u001b[0;34m)\u001b[0m\u001b[0;34m)\u001b[0m\u001b[0;34m\u001b[0m\u001b[0m\n\u001b[0m\u001b[1;32m    208\u001b[0m             \u001b[0;32melse\u001b[0m\u001b[0;34m:\u001b[0m\u001b[0;34m\u001b[0m\u001b[0m\n\u001b[1;32m    209\u001b[0m                 \u001b[0;32mraise\u001b[0m \u001b[0mTypeError\u001b[0m\u001b[0;34m(\u001b[0m\u001b[0;34m'Expecting a PEM-formatted key.'\u001b[0m\u001b[0;34m)\u001b[0m\u001b[0;34m\u001b[0m\u001b[0m\n",
            "\u001b[0;32m/usr/local/lib/python2.7/dist-packages/cryptography/hazmat/primitives/serialization/base.pyc\u001b[0m in \u001b[0;36mload_pem_public_key\u001b[0;34m(data, backend)\u001b[0m\n\u001b[1;32m     18\u001b[0m \u001b[0;34m\u001b[0m\u001b[0m\n\u001b[1;32m     19\u001b[0m \u001b[0;32mdef\u001b[0m \u001b[0mload_pem_public_key\u001b[0m\u001b[0;34m(\u001b[0m\u001b[0mdata\u001b[0m\u001b[0;34m,\u001b[0m \u001b[0mbackend\u001b[0m\u001b[0;34m)\u001b[0m\u001b[0;34m:\u001b[0m\u001b[0;34m\u001b[0m\u001b[0m\n\u001b[0;32m---> 20\u001b[0;31m     \u001b[0;32mreturn\u001b[0m \u001b[0mbackend\u001b[0m\u001b[0;34m.\u001b[0m\u001b[0mload_pem_public_key\u001b[0m\u001b[0;34m(\u001b[0m\u001b[0mdata\u001b[0m\u001b[0;34m)\u001b[0m\u001b[0;34m\u001b[0m\u001b[0m\n\u001b[0m\u001b[1;32m     21\u001b[0m \u001b[0;34m\u001b[0m\u001b[0m\n\u001b[1;32m     22\u001b[0m \u001b[0;34m\u001b[0m\u001b[0m\n",
            "\u001b[0;32m/usr/local/lib/python2.7/dist-packages/cryptography/hazmat/backends/openssl/backend.pyc\u001b[0m in \u001b[0;36mload_pem_public_key\u001b[0;34m(self, data)\u001b[0m\n\u001b[1;32m   1049\u001b[0m                 \u001b[0;32mreturn\u001b[0m \u001b[0m_RSAPublicKey\u001b[0m\u001b[0;34m(\u001b[0m\u001b[0mself\u001b[0m\u001b[0;34m,\u001b[0m \u001b[0mrsa_cdata\u001b[0m\u001b[0;34m,\u001b[0m \u001b[0mevp_pkey\u001b[0m\u001b[0;34m)\u001b[0m\u001b[0;34m\u001b[0m\u001b[0m\n\u001b[1;32m   1050\u001b[0m             \u001b[0;32melse\u001b[0m\u001b[0;34m:\u001b[0m\u001b[0;34m\u001b[0m\u001b[0m\n\u001b[0;32m-> 1051\u001b[0;31m                 \u001b[0mself\u001b[0m\u001b[0;34m.\u001b[0m\u001b[0m_handle_key_loading_error\u001b[0m\u001b[0;34m(\u001b[0m\u001b[0;34m)\u001b[0m\u001b[0;34m\u001b[0m\u001b[0m\n\u001b[0m\u001b[1;32m   1052\u001b[0m \u001b[0;34m\u001b[0m\u001b[0m\n\u001b[1;32m   1053\u001b[0m     \u001b[0;32mdef\u001b[0m \u001b[0mload_pem_parameters\u001b[0m\u001b[0;34m(\u001b[0m\u001b[0mself\u001b[0m\u001b[0;34m,\u001b[0m \u001b[0mdata\u001b[0m\u001b[0;34m)\u001b[0m\u001b[0;34m:\u001b[0m\u001b[0;34m\u001b[0m\u001b[0m\n",
            "\u001b[0;32m/usr/local/lib/python2.7/dist-packages/cryptography/hazmat/backends/openssl/backend.pyc\u001b[0m in \u001b[0;36m_handle_key_loading_error\u001b[0;34m(self)\u001b[0m\n\u001b[1;32m   1307\u001b[0m                 \u001b[0mself\u001b[0m\u001b[0;34m.\u001b[0m\u001b[0m_lib\u001b[0m\u001b[0;34m.\u001b[0m\u001b[0mERR_LIB_ASN1\u001b[0m\u001b[0;34m,\u001b[0m\u001b[0;34m\u001b[0m\u001b[0m\n\u001b[1;32m   1308\u001b[0m             )\n\u001b[0;32m-> 1309\u001b[0;31m             \u001b[0;32mraise\u001b[0m \u001b[0mValueError\u001b[0m\u001b[0;34m(\u001b[0m\u001b[0;34m\"Could not deserialize key data.\"\u001b[0m\u001b[0;34m)\u001b[0m\u001b[0;34m\u001b[0m\u001b[0m\n\u001b[0m\u001b[1;32m   1310\u001b[0m \u001b[0;34m\u001b[0m\u001b[0m\n\u001b[1;32m   1311\u001b[0m     \u001b[0;32mdef\u001b[0m \u001b[0melliptic_curve_supported\u001b[0m\u001b[0;34m(\u001b[0m\u001b[0mself\u001b[0m\u001b[0;34m,\u001b[0m \u001b[0mcurve\u001b[0m\u001b[0;34m)\u001b[0m\u001b[0;34m:\u001b[0m\u001b[0;34m\u001b[0m\u001b[0m\n",
            "\u001b[0;31mValueError\u001b[0m: Could not deserialize key data."
          ]
        }
      ]
    },
    {
      "cell_type": "code",
      "metadata": {
        "colab_type": "code",
        "id": "VtWmsrkUm7ED",
        "colab": {}
      },
      "source": [
        ""
      ],
      "execution_count": 0,
      "outputs": []
    }
  ]
}